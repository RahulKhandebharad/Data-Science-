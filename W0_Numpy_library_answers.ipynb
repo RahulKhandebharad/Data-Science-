{
  "nbformat": 4,
  "nbformat_minor": 0,
  "metadata": {
    "kernelspec": {
      "display_name": "Python 3",
      "language": "python",
      "name": "python3"
    },
    "language_info": {
      "codemirror_mode": {
        "name": "ipython",
        "version": 3
      },
      "file_extension": ".py",
      "mimetype": "text/x-python",
      "name": "python",
      "nbconvert_exporter": "python",
      "pygments_lexer": "ipython3",
      "version": "3.7.5"
    },
    "colab": {
      "name": "W0-Numpy_library_answers.ipynb",
      "provenance": [],
      "collapsed_sections": [
        "u_RFHq9IZ5lW",
        "OEAFjhItZ5lw",
        "pRxr5INlZ5l5",
        "_xDe3cqVZ5mC",
        "YRK15CWFZ5mb",
        "2M2BtpIeZ5mp",
        "bEhC2JC3Z5m1",
        "jBx2wpKWZ5nR",
        "cmXdbpmSZ5n7",
        "WhXq8SAVZ5n9",
        "FI00PwvqZ5oR",
        "lBTEElimZ5ol",
        "7QszcDUbZ5ox",
        "pOnhsLLXZ5pI",
        "qd9pZx8_Z5pl",
        "v_-gRJ7gZ5pp",
        "JZWHSnNbZ5p0",
        "5it3E9MjZ5qM",
        "hm1LM39XZ5qd",
        "lBxg4bMPZ5qq",
        "tCG42iNBZ5qt"
      ],
      "include_colab_link": true
    }
  },
  "cells": [
    {
      "cell_type": "markdown",
      "metadata": {
        "id": "view-in-github",
        "colab_type": "text"
      },
      "source": [
        "<a href=\"https://colab.research.google.com/github/RahulKhandebharad/Data-Science-/blob/master/W0_Numpy_library_answers.ipynb\" target=\"_parent\"><img src=\"https://colab.research.google.com/assets/colab-badge.svg\" alt=\"Open In Colab\"/></a>"
      ]
    },
    {
      "cell_type": "markdown",
      "metadata": {
        "id": "5MZW63-EZ5ju",
        "colab_type": "text"
      },
      "source": [
        "# Week 0 \n",
        "# `Numpy`, Scientific and numeric library\n"
      ]
    },
    {
      "cell_type": "markdown",
      "metadata": {
        "id": "phXwHvo5Z5jx",
        "colab_type": "text"
      },
      "source": [
        "`Numerical Python` popularly known as `Numpy` is core library for scientific computing. It provides high performance multi-dimensional array object and tools for working with these objects. \n",
        "\n",
        "In the following sections, we will be working on the `Numpy` library and its uses. We will compare the performance of some `Numpy` operations with their classic `Python` equivalent and discuss the uses of the library. Let us begin!"
      ]
    },
    {
      "cell_type": "markdown",
      "metadata": {
        "id": "GP7ZakVnZ5j0",
        "colab_type": "text"
      },
      "source": [
        "## 1. Comparing `Python` List vs `Numpy` array"
      ]
    },
    {
      "cell_type": "markdown",
      "metadata": {
        "id": "JmansA_eZ5j2",
        "colab_type": "text"
      },
      "source": [
        "Consider the following snippet adapted from https://webcourses.ucf.edu/courses/. We start importing the `numpy` and `timeit` libraries. `Numpy`, as we have stated, enables scientific computing and high performance tasks executions with multi-dimensional or n-dimensional arrays. The `Timer` module from `timeit` library is used for the purpose of calculating the time that certain scripts take."
      ]
    },
    {
      "cell_type": "code",
      "metadata": {
        "id": "rb1aZpylZ5j3",
        "colab_type": "code",
        "colab": {}
      },
      "source": [
        "import numpy as np\n",
        "from timeit import Timer"
      ],
      "execution_count": null,
      "outputs": []
    },
    {
      "cell_type": "markdown",
      "metadata": {
        "id": "dpLvtWqlZ5kB",
        "colab_type": "text"
      },
      "source": [
        "With imported libraries, we proceed to create two example arrays with numbers in the range [0, 999]:"
      ]
    },
    {
      "cell_type": "code",
      "metadata": {
        "id": "rdElZk-VZ5kC",
        "colab_type": "code",
        "colab": {}
      },
      "source": [
        "size_of_vec = 1000\n",
        "X_list = range(size_of_vec)\n",
        "Y_list = range(size_of_vec)\n",
        "X = np.arange(size_of_vec)\n",
        "Y = np.arange(size_of_vec)\n",
        "\n",
        "print(X_list)\n",
        "print(Y_list)\n",
        "print(X)\n",
        "print(X)"
      ],
      "execution_count": null,
      "outputs": []
    },
    {
      "cell_type": "markdown",
      "metadata": {
        "id": "ubIk_gOuZ5kJ",
        "colab_type": "text"
      },
      "source": [
        "To compare the performance of two scripts, one explicitly developed with `Python` and another with `Numpy`, we defined two user functions:"
      ]
    },
    {
      "cell_type": "code",
      "metadata": {
        "id": "zUK5vPRaZ5kK",
        "colab_type": "code",
        "colab": {}
      },
      "source": [
        "def pure_python_version(): #Explicitly Python based with lists\n",
        "    Z = []\n",
        "    for i in range(len(X_list)):\n",
        "        Z.append(X_list[i] + Y_list[i])\n",
        "        #print(Z)\n",
        "    \n",
        "def numpy_version(): #Explicitly Numpy based with vectorization\n",
        "    Z = X + Y \n",
        "    #print(Z)\n",
        "\n",
        "#pure_python_version()\n",
        "#print('\\n')\n",
        "#numpy_version()"
      ],
      "execution_count": null,
      "outputs": []
    },
    {
      "cell_type": "markdown",
      "metadata": {
        "id": "Aw-o2I9LZ5kQ",
        "colab_type": "text"
      },
      "source": [
        "We call the developed functions and measure the time it takes to execute them once:"
      ]
    },
    {
      "cell_type": "code",
      "metadata": {
        "id": "Jt_iWg4HZ5kR",
        "colab_type": "code",
        "colab": {
          "base_uri": "https://localhost:8080/",
          "height": 51
        },
        "outputId": "f59f9a3e-4912-42df-b988-274e8ed8946d"
      },
      "source": [
        "timer_obj1 = Timer(\"pure_python_version()\", \n",
        "                   \"from __main__ import pure_python_version\")\n",
        "timer_obj2 = Timer(\"numpy_version()\", \n",
        "                   \"from __main__ import numpy_version\")\n",
        "\n",
        "print(\"Pure python version:\",timer_obj1.timeit(10))\n",
        "print(\"Numpy version:\",timer_obj2.timeit(10))"
      ],
      "execution_count": null,
      "outputs": [
        {
          "output_type": "stream",
          "text": [
            "Pure python version: 0.003103798000097413\n",
            "Numpy version: 0.00019116399994345556\n"
          ],
          "name": "stdout"
        }
      ]
    },
    {
      "cell_type": "markdown",
      "metadata": {
        "id": "dW0BqCJxZ5kb",
        "colab_type": "text"
      },
      "source": [
        "As we can see, the vectorized sum approach with `Numpy` is much faster than the purely `Python` based approach."
      ]
    },
    {
      "cell_type": "markdown",
      "metadata": {
        "id": "wGcMFZ8-Z5kc",
        "colab_type": "text"
      },
      "source": [
        "## 2.Creating `Numpy` array from `Python` list"
      ]
    },
    {
      "cell_type": "markdown",
      "metadata": {
        "id": "4edpsaOoZ5ke",
        "colab_type": "text"
      },
      "source": [
        "Let's start by creating a `numpy` array from a predefined list with te values 165, 170, 171, 180, 189, and 178:"
      ]
    },
    {
      "cell_type": "code",
      "metadata": {
        "id": "JPG6rEujZ5kg",
        "colab_type": "code",
        "colab": {
          "base_uri": "https://localhost:8080/",
          "height": 51
        },
        "outputId": "b4fb6fac-6eaf-410c-9b46-20fe027c36e7"
      },
      "source": [
        "heights = [165, 170, 171, 180, 189, 178]\n",
        "print(type(heights))\n",
        "\n",
        "heights_np = np.array(heights)\n",
        "print(type(heights_np))"
      ],
      "execution_count": null,
      "outputs": [
        {
          "output_type": "stream",
          "text": [
            "<class 'list'>\n",
            "<class 'numpy.ndarray'>\n"
          ],
          "name": "stdout"
        }
      ]
    },
    {
      "cell_type": "markdown",
      "metadata": {
        "id": "Monkh3zdZ5ko",
        "colab_type": "text"
      },
      "source": [
        "The type of object defined at first is a `list`. After conversion with the `.array()` function, the object is converted into a `ndarray` object. This means that we have created an array of multiple dimensions (`n` dimensions) from a `list`. In this case, the `numpy` array is a **one-dimensional array**.\n",
        "\n",
        "Now let's see how to create a **two-dimensional array**:"
      ]
    },
    {
      "cell_type": "code",
      "metadata": {
        "id": "2nEkdFDIZ5kp",
        "colab_type": "code",
        "colab": {
          "base_uri": "https://localhost:8080/",
          "height": 119
        },
        "outputId": "2ab98860-f833-45ed-d5e3-0c61d987fb75"
      },
      "source": [
        "weights = np.array([[50, 45, 56, 78],[78, 89, 59, 90],[89, 78, 69, 70],[67, 69, 89, 70],[90,89, 80, 84],[89, 59, 90, 78]])\n",
        "print(weights)"
      ],
      "execution_count": null,
      "outputs": [
        {
          "output_type": "stream",
          "text": [
            "[[50 45 56 78]\n",
            " [78 89 59 90]\n",
            " [89 78 69 70]\n",
            " [67 69 89 70]\n",
            " [90 89 80 84]\n",
            " [89 59 90 78]]\n"
          ],
          "name": "stdout"
        }
      ]
    },
    {
      "cell_type": "markdown",
      "metadata": {
        "id": "m4NgXVo-Z5ku",
        "colab_type": "text"
      },
      "source": [
        "## 3. Exploring some of the key attributes of `ndarray` objects"
      ]
    },
    {
      "cell_type": "markdown",
      "metadata": {
        "id": "RXIoPnEBZ5kv",
        "colab_type": "text"
      },
      "source": [
        "Multidimensional arrays have the following important attributes:\n",
        "\n",
        "- `ndim`: number of dimensions of the array\n",
        "- `shape`: shape of the array in the format `(number_rows, number_columns)`\n",
        "- `size`: total number of elements\n",
        "- `dtypes`: type of data stored in the array\n",
        "- `strides`: number of bytes that must be moved to store each row and column in memory, in the format `(number_bytes_files, number_bytes_columns)`\n",
        "\n",
        "Let's see an example:"
      ]
    },
    {
      "cell_type": "code",
      "metadata": {
        "id": "bjRDAo6BZ5kw",
        "colab_type": "code",
        "colab": {
          "base_uri": "https://localhost:8080/",
          "height": 102
        },
        "outputId": "f48d6702-a8f4-4cec-c1fb-87ed9fdf075d"
      },
      "source": [
        "print(\"dimension:\", weights.ndim)\n",
        "print(\"shape:\", weights.shape)\n",
        "print(\"size:\", weights.size)\n",
        "print(\"dtype:\", weights.dtype)\n",
        "print(\"strides:\", weights.strides)"
      ],
      "execution_count": null,
      "outputs": [
        {
          "output_type": "stream",
          "text": [
            "dimension: 2\n",
            "shape: (6, 4)\n",
            "size: 24\n",
            "dtype: int64\n",
            "strides: (32, 8)\n"
          ],
          "name": "stdout"
        }
      ]
    },
    {
      "cell_type": "markdown",
      "metadata": {
        "id": "BXNvMGWWZ5k0",
        "colab_type": "text"
      },
      "source": [
        "The exemplified arrangement has:\n",
        "\n",
        "- `ndim` of 2 because it is a two-dimensional array.\n",
        "- `shape` of (6, 4) as it is made up of 6 rows and 4 columns.\n",
        "- `size` of 24 since it has 24 elements in total, 6 elements per column or what is the same, 4 elements per row.\n",
        "- int32 `dtypes` because each element of the array is a 32-bit (4-byte) integer\n",
        "- `strides` of (16, 4) since 16 bytes (4 integers of 4 bytes in the rows) are needed to store each row in memory and 4 bytes (1 integer per column) to store each column in memory."
      ]
    },
    {
      "cell_type": "markdown",
      "metadata": {
        "id": "OsnripzXZ5k0",
        "colab_type": "text"
      },
      "source": [
        "## Exercise 1\n",
        "\n",
        "Convert the two-dimensional `ndarray` `weights` into a three-dimensional object without changing its shape."
      ]
    },
    {
      "cell_type": "markdown",
      "metadata": {
        "id": "hYJV51AzZ5k1",
        "colab_type": "text"
      },
      "source": [
        "**Answer:** This is a tricky question. By modifying the content of a two-dimensional array, the shape is preserved. If we reshape the arrangement, the content can remain intact. However, when modifying the dimensions of a two-dimensional array and making it three-dimensional, the shape will necessarily change, since we are including an additional dimension, which makes the pair that represents the shape now have a third value and become a triplet."
      ]
    },
    {
      "cell_type": "markdown",
      "metadata": {
        "id": "0sn8Ezl9Z5k2",
        "colab_type": "text"
      },
      "source": [
        "## 4. Exploring some of the key functions defined for `numpy` arrays"
      ]
    },
    {
      "cell_type": "markdown",
      "metadata": {
        "id": "L7LG6N_5Z5k3",
        "colab_type": "text"
      },
      "source": [
        "In this section we are going to explore some of the most important functions of `numpy` arrays:\n",
        "\n",
        "1. `zeros(shape=(n,m))`: Allows to create a zero-array with the shape (`n` rows, `m` columns)\n",
        "2. `arange(start=i, stop=j, step=u)`: creates a one-dimensional array whose first value is `i` inclusive, last value is `j` exclusive, and each value varies  `s` steps from the previous.\n",
        "3. `linspace(start=i, stop=j, num=n)`: creates a one-dimensional array whose first value is `i` inclusive, last value is `j` inclusive and contains `n` values in total. Each value differs from the previous one with the same magnitude that differs from the next.\n",
        "4. `full(shape=(n,m), fill_value=f)`: Allows to create an array with the shape (`n` rows,` m` columns), where all positions have the value `f`.\n",
        "\n",
        "Let's delve into each of them:"
      ]
    },
    {
      "cell_type": "markdown",
      "metadata": {
        "id": "aLwOjE9jZ5k3",
        "colab_type": "text"
      },
      "source": [
        "### 4.1. np.zeros()"
      ]
    },
    {
      "cell_type": "markdown",
      "metadata": {
        "id": "ERIYmNhRZ5k4",
        "colab_type": "text"
      },
      "source": [
        "The `zeros(shape=(n,m), dtypes)` function creates a zero-array with the shape (`n` rows, `m` columns) and data types of `dtypes`:"
      ]
    },
    {
      "cell_type": "code",
      "metadata": {
        "id": "7aLEv_7jZ5k5",
        "colab_type": "code",
        "colab": {
          "base_uri": "https://localhost:8080/",
          "height": 68
        },
        "outputId": "fb0960ae-3ca8-465d-df4a-fc76b7c2c33c"
      },
      "source": [
        "x = np.zeros(shape=(3,5), dtype =\"int32\")\n",
        "print(x)"
      ],
      "execution_count": null,
      "outputs": [
        {
          "output_type": "stream",
          "text": [
            "[[0 0 0 0 0]\n",
            " [0 0 0 0 0]\n",
            " [0 0 0 0 0]]\n"
          ],
          "name": "stdout"
        }
      ]
    },
    {
      "cell_type": "markdown",
      "metadata": {
        "id": "F7FMlXZYZ5k-",
        "colab_type": "text"
      },
      "source": [
        "As you can notice, we have created a two-dimensional array of zeros of three rows and five columns where each element is a 32-bit integer."
      ]
    },
    {
      "cell_type": "markdown",
      "metadata": {
        "id": "t9Wzwq5aZ5k_",
        "colab_type": "text"
      },
      "source": [
        "### 4.2. np.arange()"
      ]
    },
    {
      "cell_type": "markdown",
      "metadata": {
        "id": "3PeTDvW1Z5lA",
        "colab_type": "text"
      },
      "source": [
        "The `arange(start=i, stop=j, step=u)` function creates a one-dimensional array whose first value is `i` inclusive, last value is `j` exclusive, and each value varies  `s` steps from the previous:"
      ]
    },
    {
      "cell_type": "code",
      "metadata": {
        "id": "m9Nmo9QjZ5lA",
        "colab_type": "code",
        "colab": {
          "base_uri": "https://localhost:8080/",
          "height": 34
        },
        "outputId": "969d78a9-aeaa-4178-f0b2-f82ed153d097"
      },
      "source": [
        "x = np.arange(start=100, stop=1000, step=100, dtype=\"int32\")\n",
        "print(x)"
      ],
      "execution_count": null,
      "outputs": [
        {
          "output_type": "stream",
          "text": [
            "[100 200 300 400 500 600 700 800 900]\n"
          ],
          "name": "stdout"
        }
      ]
    },
    {
      "cell_type": "markdown",
      "metadata": {
        "id": "FdMDK9ClZ5lE",
        "colab_type": "text"
      },
      "source": [
        "This function has allowed us to create a one-dimensional array that starts at 100, ends at 1000 (exclusive) and progresses from 100 to 100, with 32-bit integer values."
      ]
    },
    {
      "cell_type": "markdown",
      "metadata": {
        "id": "c0wy3KLzZ5lF",
        "colab_type": "text"
      },
      "source": [
        "### 4.3. np.linspace()"
      ]
    },
    {
      "cell_type": "markdown",
      "metadata": {
        "id": "BK35XyhgZ5lG",
        "colab_type": "text"
      },
      "source": [
        "The `linspace(start=i, stop=j, num=n)` function creates a one-dimensional array whose first value is `i` inclusive, last value is `j` inclusive and contains `n` values in total. Each value differs from the previous one with the same magnitude that differs from the next. Consider the following example:"
      ]
    },
    {
      "cell_type": "code",
      "metadata": {
        "id": "C40F2HA3Z5lG",
        "colab_type": "code",
        "colab": {
          "base_uri": "https://localhost:8080/",
          "height": 102
        },
        "outputId": "20421f89-6382-470a-fa72-24b51112a566"
      },
      "source": [
        "x_lin = np.linspace(start=10, stop=50, num=30)\n",
        "print(x_lin)"
      ],
      "execution_count": null,
      "outputs": [
        {
          "output_type": "stream",
          "text": [
            "[10.         11.37931034 12.75862069 14.13793103 15.51724138 16.89655172\n",
            " 18.27586207 19.65517241 21.03448276 22.4137931  23.79310345 25.17241379\n",
            " 26.55172414 27.93103448 29.31034483 30.68965517 32.06896552 33.44827586\n",
            " 34.82758621 36.20689655 37.5862069  38.96551724 40.34482759 41.72413793\n",
            " 43.10344828 44.48275862 45.86206897 47.24137931 48.62068966 50.        ]\n"
          ],
          "name": "stdout"
        }
      ]
    },
    {
      "cell_type": "markdown",
      "metadata": {
        "id": "6suukTKVZ5lL",
        "colab_type": "text"
      },
      "source": [
        "We have created a one-dimensional array that varies linearly from 10 to 50 inclusive, for a total of 30 floating numbers."
      ]
    },
    {
      "cell_type": "markdown",
      "metadata": {
        "id": "iW7o70yIZ5lO",
        "colab_type": "text"
      },
      "source": [
        "### 4.4. np.full()"
      ]
    },
    {
      "cell_type": "markdown",
      "metadata": {
        "id": "wG4WNZO0Z5lO",
        "colab_type": "text"
      },
      "source": [
        "The `full(shape=(n,m), fill_value=f)` function allows to create an array with the shape (`n` rows,` m` columns), where all positions have the value `f`."
      ]
    },
    {
      "cell_type": "code",
      "metadata": {
        "id": "iiAZNvpBZ5lP",
        "colab_type": "code",
        "colab": {
          "base_uri": "https://localhost:8080/",
          "height": 102
        },
        "outputId": "0899c0a0-1a1c-47a2-ff33-4b5bdfa8ee75"
      },
      "source": [
        "x_ful = np.full(shape=(5,6), fill_value=3)\n",
        "print(x_ful)"
      ],
      "execution_count": null,
      "outputs": [
        {
          "output_type": "stream",
          "text": [
            "[[3 3 3 3 3 3]\n",
            " [3 3 3 3 3 3]\n",
            " [3 3 3 3 3 3]\n",
            " [3 3 3 3 3 3]\n",
            " [3 3 3 3 3 3]]\n"
          ],
          "name": "stdout"
        }
      ]
    },
    {
      "cell_type": "markdown",
      "metadata": {
        "id": "8glywtOgZ5lT",
        "colab_type": "text"
      },
      "source": [
        "We see that a two-dimensional array of 5 rows and 6 columns has been created, all with a value of 3 at their positions."
      ]
    },
    {
      "cell_type": "markdown",
      "metadata": {
        "id": "vsGTGkAFZ5lU",
        "colab_type": "text"
      },
      "source": [
        "## 5. Exploring additional attributes and functions"
      ]
    },
    {
      "cell_type": "markdown",
      "metadata": {
        "id": "DG-racSsZ5lV",
        "colab_type": "text"
      },
      "source": [
        "Let's review three additional functions: `.reshape()`, `.flatten()` and `.ravel()`."
      ]
    },
    {
      "cell_type": "markdown",
      "metadata": {
        "id": "u_RFHq9IZ5lW",
        "colab_type": "text"
      },
      "source": [
        "### 5.1. Reshaping the array"
      ]
    },
    {
      "cell_type": "markdown",
      "metadata": {
        "id": "I0AsLrQrZ5lX",
        "colab_type": "text"
      },
      "source": [
        "Let's reshape the `weights` numpy array. First take a look to the contant and the shape of `weights`:"
      ]
    },
    {
      "cell_type": "code",
      "metadata": {
        "id": "gVwjRGuZZ5lX",
        "colab_type": "code",
        "colab": {
          "base_uri": "https://localhost:8080/",
          "height": 119
        },
        "outputId": "cac2a2f4-10fb-4a95-b4e0-e4ef361f13a5"
      },
      "source": [
        "weights"
      ],
      "execution_count": null,
      "outputs": [
        {
          "output_type": "execute_result",
          "data": {
            "text/plain": [
              "array([[50, 45, 56, 78],\n",
              "       [78, 89, 59, 90],\n",
              "       [89, 78, 69, 70],\n",
              "       [67, 69, 89, 70],\n",
              "       [90, 89, 80, 84],\n",
              "       [89, 59, 90, 78]])"
            ]
          },
          "metadata": {
            "tags": []
          },
          "execution_count": 24
        }
      ]
    },
    {
      "cell_type": "code",
      "metadata": {
        "id": "mP8sL4ilZ5lc",
        "colab_type": "code",
        "colab": {
          "base_uri": "https://localhost:8080/",
          "height": 34
        },
        "outputId": "0f6caaa7-67c5-45f7-8016-15bdff42cb19"
      },
      "source": [
        "weights.shape"
      ],
      "execution_count": null,
      "outputs": [
        {
          "output_type": "execute_result",
          "data": {
            "text/plain": [
              "(6, 4)"
            ]
          },
          "metadata": {
            "tags": []
          },
          "execution_count": 23
        }
      ]
    },
    {
      "cell_type": "markdown",
      "metadata": {
        "id": "r-oj5Xt_Z5lg",
        "colab_type": "text"
      },
      "source": [
        "The reshaping procedure is done using the `.reshape((n1,m1))` function, which receives as input parameters a tuple of two values `n1` and `m1` that is, the new shape of the array to be created from the original array:"
      ]
    },
    {
      "cell_type": "code",
      "metadata": {
        "id": "QMUBpjmnZ5lg",
        "colab_type": "code",
        "colab": {
          "base_uri": "https://localhost:8080/",
          "height": 85
        },
        "outputId": "b3236507-438b-4602-f7be-44ff3be251f6"
      },
      "source": [
        "weights = weights.reshape((4,6))\n",
        "weights"
      ],
      "execution_count": null,
      "outputs": [
        {
          "output_type": "execute_result",
          "data": {
            "text/plain": [
              "array([[50, 45, 56, 78, 78, 89],\n",
              "       [59, 90, 89, 78, 69, 70],\n",
              "       [67, 69, 89, 70, 90, 89],\n",
              "       [80, 84, 89, 59, 90, 78]])"
            ]
          },
          "metadata": {
            "tags": []
          },
          "execution_count": 25
        }
      ]
    },
    {
      "cell_type": "code",
      "metadata": {
        "id": "M6_-aLB2Z5lk",
        "colab_type": "code",
        "colab": {
          "base_uri": "https://localhost:8080/",
          "height": 34
        },
        "outputId": "20c8cef3-f1a3-44c9-cdc2-c44ed490fb80"
      },
      "source": [
        "weights.shape"
      ],
      "execution_count": null,
      "outputs": [
        {
          "output_type": "execute_result",
          "data": {
            "text/plain": [
              "(4, 6)"
            ]
          },
          "metadata": {
            "tags": []
          },
          "execution_count": 26
        }
      ]
    },
    {
      "cell_type": "markdown",
      "metadata": {
        "id": "D34Anp6DZ5ln",
        "colab_type": "text"
      },
      "source": [
        "Can you see the difference? We have changed the shape of the `weights` array, from 6 rows and 4 columns, to 4 rows and 6 columns. The way the values are distributed in the new array is from left-to-right then top-to-bottom. \n",
        "\n",
        "Let's add a new dimension through reshaping the current `weights` array:"
      ]
    },
    {
      "cell_type": "code",
      "metadata": {
        "id": "ZStURnSrZ5lo",
        "colab_type": "code",
        "colab": {
          "base_uri": "https://localhost:8080/",
          "height": 238
        },
        "outputId": "87abf6f6-4338-4add-80e6-d1887b710602"
      },
      "source": [
        "weights = weights.reshape((2,6,2))\n",
        "weights"
      ],
      "execution_count": null,
      "outputs": [
        {
          "output_type": "execute_result",
          "data": {
            "text/plain": [
              "array([[[50, 45],\n",
              "        [56, 78],\n",
              "        [78, 89],\n",
              "        [59, 90],\n",
              "        [89, 78],\n",
              "        [69, 70]],\n",
              "\n",
              "       [[67, 69],\n",
              "        [89, 70],\n",
              "        [90, 89],\n",
              "        [80, 84],\n",
              "        [89, 59],\n",
              "        [90, 78]]])"
            ]
          },
          "metadata": {
            "tags": []
          },
          "execution_count": 27
        }
      ]
    },
    {
      "cell_type": "code",
      "metadata": {
        "id": "ML1sTM_vZ5lr",
        "colab_type": "code",
        "colab": {
          "base_uri": "https://localhost:8080/",
          "height": 34
        },
        "outputId": "ea3ba942-52b9-41ad-de0d-d592a35d2825"
      },
      "source": [
        "weights.shape"
      ],
      "execution_count": null,
      "outputs": [
        {
          "output_type": "execute_result",
          "data": {
            "text/plain": [
              "(2, 6, 2)"
            ]
          },
          "metadata": {
            "tags": []
          },
          "execution_count": 28
        }
      ]
    },
    {
      "cell_type": "markdown",
      "metadata": {
        "id": "LxIEuF6nZ5lv",
        "colab_type": "text"
      },
      "source": [
        "Now, the array is three-dimensionally estructured. Two bi-dimensional (2D) arrays conform the new array, and each of the 2D arrays have two rows and six columns."
      ]
    },
    {
      "cell_type": "markdown",
      "metadata": {
        "id": "OEAFjhItZ5lw",
        "colab_type": "text"
      },
      "source": [
        "### 5.2. Flattening the array"
      ]
    },
    {
      "cell_type": "markdown",
      "metadata": {
        "id": "snmOyy48Z5lx",
        "colab_type": "text"
      },
      "source": [
        "The `.flatten()` function returns a copy of an array collapsed into one dimension, no matter how many dimensions the array has. Consider the `weights` two-dimensional array:"
      ]
    },
    {
      "cell_type": "code",
      "metadata": {
        "id": "cqVbVwh1Z5lx",
        "colab_type": "code",
        "colab": {
          "base_uri": "https://localhost:8080/",
          "height": 238
        },
        "outputId": "7beb8496-2cc2-4bbe-dea0-585addb18d7c"
      },
      "source": [
        "weights"
      ],
      "execution_count": null,
      "outputs": [
        {
          "output_type": "execute_result",
          "data": {
            "text/plain": [
              "array([[[50, 45],\n",
              "        [56, 78],\n",
              "        [78, 89],\n",
              "        [59, 90],\n",
              "        [89, 78],\n",
              "        [69, 70]],\n",
              "\n",
              "       [[67, 69],\n",
              "        [89, 70],\n",
              "        [90, 89],\n",
              "        [80, 84],\n",
              "        [89, 59],\n",
              "        [90, 78]]])"
            ]
          },
          "metadata": {
            "tags": []
          },
          "execution_count": 30
        }
      ]
    },
    {
      "cell_type": "markdown",
      "metadata": {
        "id": "ekn7bTC0Z5l1",
        "colab_type": "text"
      },
      "source": [
        "If we flatten the array, we are re-organizing their elements in a one-dimensional array, as follows:"
      ]
    },
    {
      "cell_type": "code",
      "metadata": {
        "id": "BwDz1e-HZ5l2",
        "colab_type": "code",
        "colab": {
          "base_uri": "https://localhost:8080/",
          "height": 51
        },
        "outputId": "c3db9541-05cd-4634-d0c2-5f0689a2f244"
      },
      "source": [
        "weights_flattened = weights.flatten()\n",
        "weights_flattened"
      ],
      "execution_count": null,
      "outputs": [
        {
          "output_type": "execute_result",
          "data": {
            "text/plain": [
              "array([50, 45, 56, 78, 78, 89, 59, 90, 89, 78, 69, 70, 67, 69, 89, 70, 90,\n",
              "       89, 80, 84, 89, 59, 90, 78])"
            ]
          },
          "metadata": {
            "tags": []
          },
          "execution_count": 31
        }
      ]
    },
    {
      "cell_type": "markdown",
      "metadata": {
        "id": "pRxr5INlZ5l5",
        "colab_type": "text"
      },
      "source": [
        "### 5.3. Raveling the array"
      ]
    },
    {
      "cell_type": "markdown",
      "metadata": {
        "id": "0u9DRRyHZ5l6",
        "colab_type": "text"
      },
      "source": [
        "The `.ravel()` function returns a flattened view of an array collapsed into one dimension. It works identically to the `.flatten()` function, although a copy in memory is not achieve, just a flatten view of the final result. \n",
        "\n",
        "Consider the `weights` two-dimensional array:"
      ]
    },
    {
      "cell_type": "code",
      "metadata": {
        "id": "Ss1o22txZ5l6",
        "colab_type": "code",
        "colab": {}
      },
      "source": [
        "weights_raveld = weights.ravel()"
      ],
      "execution_count": null,
      "outputs": []
    },
    {
      "cell_type": "code",
      "metadata": {
        "id": "p7dBnBgDZ5l-",
        "colab_type": "code",
        "colab": {
          "base_uri": "https://localhost:8080/",
          "height": 51
        },
        "outputId": "c7eb6663-5d94-45d3-c2f0-a2b6eadeb862"
      },
      "source": [
        "weights_raveld"
      ],
      "execution_count": null,
      "outputs": [
        {
          "output_type": "execute_result",
          "data": {
            "text/plain": [
              "array([50, 45, 56, 78, 78, 89, 59, 90, 89, 78, 69, 70, 67, 69, 89, 70, 90,\n",
              "       89, 80, 84, 89, 59, 90, 78])"
            ]
          },
          "metadata": {
            "tags": []
          },
          "execution_count": 33
        }
      ]
    },
    {
      "cell_type": "markdown",
      "metadata": {
        "id": "8UaexP0OZ5mB",
        "colab_type": "text"
      },
      "source": [
        "Some key differences between flattening and raveling the array are:\n",
        "- `ravel()` function simply returns a flattened view of Numpy array. If you try to modify this view, you will end up with that same changes in the original array. `flatten()` function returns a flattened copy in memory of the array, so that new changes can be made without affecting the original array.\n",
        "- `ravel()` does not occupy memory, being faster than `flatten()`, which occupies memory when copying the flattened objects."
      ]
    },
    {
      "cell_type": "markdown",
      "metadata": {
        "id": "_xDe3cqVZ5mC",
        "colab_type": "text"
      },
      "source": [
        "## Exercise 2\n",
        "\n",
        "Create an array of 51 elements starting at 100 and ending at 500, using the two functions `np.linspace()` and `np.arange()`. Arrays must have the same content, with the names `array_lin` and `array_ara`, respectively. Verify that the arrays have the same content with the `np.array_equal()` function."
      ]
    },
    {
      "cell_type": "markdown",
      "metadata": {
        "id": "wkjz2yyZZ5mC",
        "colab_type": "text"
      },
      "source": [
        "**Answer:**"
      ]
    },
    {
      "cell_type": "code",
      "metadata": {
        "id": "_ebmAXt9Z5mD",
        "colab_type": "code",
        "colab": {
          "base_uri": "https://localhost:8080/",
          "height": 102
        },
        "outputId": "6cf2eacc-c68a-4123-cb65-96107d6a1bba"
      },
      "source": [
        "array_lin = np.linspace(start=100, stop=500, num=51)\n",
        "array_lin"
      ],
      "execution_count": null,
      "outputs": [
        {
          "output_type": "execute_result",
          "data": {
            "text/plain": [
              "array([100., 108., 116., 124., 132., 140., 148., 156., 164., 172., 180.,\n",
              "       188., 196., 204., 212., 220., 228., 236., 244., 252., 260., 268.,\n",
              "       276., 284., 292., 300., 308., 316., 324., 332., 340., 348., 356.,\n",
              "       364., 372., 380., 388., 396., 404., 412., 420., 428., 436., 444.,\n",
              "       452., 460., 468., 476., 484., 492., 500.])"
            ]
          },
          "metadata": {
            "tags": []
          },
          "execution_count": 34
        }
      ]
    },
    {
      "cell_type": "code",
      "metadata": {
        "id": "_HkU9DF3Z5mJ",
        "colab_type": "code",
        "colab": {
          "base_uri": "https://localhost:8080/",
          "height": 102
        },
        "outputId": "847b8bc7-cdc1-490d-dfa4-4a6bc5c7912e"
      },
      "source": [
        "array_ara = np.arange(start=100, stop=501, step=8.0)\n",
        "array_ara"
      ],
      "execution_count": null,
      "outputs": [
        {
          "output_type": "execute_result",
          "data": {
            "text/plain": [
              "array([100., 108., 116., 124., 132., 140., 148., 156., 164., 172., 180.,\n",
              "       188., 196., 204., 212., 220., 228., 236., 244., 252., 260., 268.,\n",
              "       276., 284., 292., 300., 308., 316., 324., 332., 340., 348., 356.,\n",
              "       364., 372., 380., 388., 396., 404., 412., 420., 428., 436., 444.,\n",
              "       452., 460., 468., 476., 484., 492., 500.])"
            ]
          },
          "metadata": {
            "tags": []
          },
          "execution_count": 37
        }
      ]
    },
    {
      "cell_type": "code",
      "metadata": {
        "id": "na14jKSEZ5mM",
        "colab_type": "code",
        "colab": {
          "base_uri": "https://localhost:8080/",
          "height": 34
        },
        "outputId": "8bd66a71-0b65-4cc5-d38a-8fc99c9ed5a6"
      },
      "source": [
        "np.array_equal(array_lin, array_ara)"
      ],
      "execution_count": null,
      "outputs": [
        {
          "output_type": "execute_result",
          "data": {
            "text/plain": [
              "True"
            ]
          },
          "metadata": {
            "tags": []
          },
          "execution_count": 38
        }
      ]
    },
    {
      "cell_type": "markdown",
      "metadata": {
        "id": "F5lS66PsZ5mP",
        "colab_type": "text"
      },
      "source": [
        "## 6.Array indexing\n"
      ]
    },
    {
      "cell_type": "markdown",
      "metadata": {
        "id": "wI-31yAHZ5mQ",
        "colab_type": "text"
      },
      "source": [
        "To access the content of an array we can use indexing through brackets `[ ]`. When using the brackets, we can access the elements on the list by: \n",
        "1. Using a **positive single index** starting from 0\n",
        "2. Using a **negative single index** starting from -1\n",
        "3. Using **positive index intervals** using the `start:end:step` notation to specify starting and ending values as well as the step.\n",
        "4. Using **negative index intervals** using the `start:end:step` notation to specify negative index starting and ending values as well as the step.\n",
        "\n",
        "Occasionally, we can:\n",
        "- Get ride of the the `step` value as `sart:end`, so that by default we slice the data with a `step` of 1. \n",
        "- Get ride of the `start` value as `:fin:step`, and hence our `start` index will be 0, by default.\n",
        "- Omit the `end` value as `start::step`, specifying the final position as the `end` index by default. \n",
        "- Specify the range as `::step`, and hence the `start` position will be 0 and the end position will be the last one of the array.\n",
        "\n",
        "Let's see how indexing works using the `weights` and `heights_np` arrays:"
      ]
    },
    {
      "cell_type": "code",
      "metadata": {
        "id": "oNG3GgmUZ5mR",
        "colab_type": "code",
        "colab": {
          "base_uri": "https://localhost:8080/",
          "height": 238
        },
        "outputId": "628cf312-23d3-457d-bc88-03734b97c60c"
      },
      "source": [
        "weights"
      ],
      "execution_count": null,
      "outputs": [
        {
          "output_type": "execute_result",
          "data": {
            "text/plain": [
              "array([[[50, 45],\n",
              "        [56, 78],\n",
              "        [78, 89],\n",
              "        [59, 90],\n",
              "        [89, 78],\n",
              "        [69, 70]],\n",
              "\n",
              "       [[67, 69],\n",
              "        [89, 70],\n",
              "        [90, 89],\n",
              "        [80, 84],\n",
              "        [89, 59],\n",
              "        [90, 78]]])"
            ]
          },
          "metadata": {
            "tags": []
          },
          "execution_count": 39
        }
      ]
    },
    {
      "cell_type": "code",
      "metadata": {
        "id": "JN_ghpKZZ5mU",
        "colab_type": "code",
        "colab": {
          "base_uri": "https://localhost:8080/",
          "height": 119
        },
        "outputId": "13cc63bd-2b69-4902-f2a1-414043ab68db"
      },
      "source": [
        "weights_or = weights.reshape((6,4))\n",
        "weights_or"
      ],
      "execution_count": null,
      "outputs": [
        {
          "output_type": "execute_result",
          "data": {
            "text/plain": [
              "array([[50, 45, 56, 78],\n",
              "       [78, 89, 59, 90],\n",
              "       [89, 78, 69, 70],\n",
              "       [67, 69, 89, 70],\n",
              "       [90, 89, 80, 84],\n",
              "       [89, 59, 90, 78]])"
            ]
          },
          "metadata": {
            "tags": []
          },
          "execution_count": 40
        }
      ]
    },
    {
      "cell_type": "code",
      "metadata": {
        "id": "1OC_g1VAZ5mY",
        "colab_type": "code",
        "colab": {
          "base_uri": "https://localhost:8080/",
          "height": 34
        },
        "outputId": "8f1eed3d-0052-43bc-a833-998b737dfa59"
      },
      "source": [
        "heights_np"
      ],
      "execution_count": null,
      "outputs": [
        {
          "output_type": "execute_result",
          "data": {
            "text/plain": [
              "array([165, 170, 171, 180, 189, 178])"
            ]
          },
          "metadata": {
            "tags": []
          },
          "execution_count": 41
        }
      ]
    },
    {
      "cell_type": "markdown",
      "metadata": {
        "id": "YRK15CWFZ5mb",
        "colab_type": "text"
      },
      "source": [
        "### 6.1 Using a positive single index"
      ]
    },
    {
      "cell_type": "markdown",
      "metadata": {
        "id": "w-W9IZPdZ5mc",
        "colab_type": "text"
      },
      "source": [
        "When using positive indexing, it is important to consider the first position of the array to be 0:"
      ]
    },
    {
      "cell_type": "code",
      "metadata": {
        "scrolled": true,
        "id": "I_-hJtNDZ5md",
        "colab_type": "code",
        "colab": {
          "base_uri": "https://localhost:8080/",
          "height": 51
        },
        "outputId": "b2d19587-8e98-4255-ce4f-80d19646f03a"
      },
      "source": [
        "print(\"Accessing single element in 1D array:\", heights_np[2])\n",
        "print(\"Accessing single element in 2D array:\", weights_or[1][3])"
      ],
      "execution_count": null,
      "outputs": [
        {
          "output_type": "stream",
          "text": [
            "Accessing single element in 1D array: 171\n",
            "Accessing single element in 2D array: 90\n"
          ],
          "name": "stdout"
        }
      ]
    },
    {
      "cell_type": "code",
      "metadata": {
        "scrolled": false,
        "id": "d6paKEBuZ5mk",
        "colab_type": "code",
        "colab": {
          "base_uri": "https://localhost:8080/",
          "height": 164
        },
        "outputId": "51ed1b2e-bcc5-49be-a080-76903de43add"
      },
      "source": [
        "heights_np[7]"
      ],
      "execution_count": null,
      "outputs": [
        {
          "output_type": "error",
          "ename": "IndexError",
          "evalue": "ignored",
          "traceback": [
            "\u001b[0;31m---------------------------------------------------------------------------\u001b[0m",
            "\u001b[0;31mIndexError\u001b[0m                                Traceback (most recent call last)",
            "\u001b[0;32m<ipython-input-43-c1b0cf84b168>\u001b[0m in \u001b[0;36m<module>\u001b[0;34m()\u001b[0m\n\u001b[0;32m----> 1\u001b[0;31m \u001b[0mheights_np\u001b[0m\u001b[0;34m[\u001b[0m\u001b[0;36m7\u001b[0m\u001b[0;34m]\u001b[0m\u001b[0;34m\u001b[0m\u001b[0;34m\u001b[0m\u001b[0m\n\u001b[0m",
            "\u001b[0;31mIndexError\u001b[0m: index 7 is out of bounds for axis 0 with size 6"
          ]
        }
      ]
    },
    {
      "cell_type": "markdown",
      "metadata": {
        "id": "uf954_XdZ5mo",
        "colab_type": "text"
      },
      "source": [
        "**Why are we getting this error message?**\n",
        "\n",
        "Well guessed! It is because position 7 does not exist in the `heights_np` array, it is totally out of the bounds defined by the array's shape and size. The array has 6 elements, the last element being in position 5."
      ]
    },
    {
      "cell_type": "markdown",
      "metadata": {
        "id": "2M2BtpIeZ5mp",
        "colab_type": "text"
      },
      "source": [
        "### 6.2 Using a negative single index starting"
      ]
    },
    {
      "cell_type": "markdown",
      "metadata": {
        "id": "utJZoJ-oZ5mp",
        "colab_type": "text"
      },
      "source": [
        "When using negative indexing, it is important to consider the last position of the array to be -1:"
      ]
    },
    {
      "cell_type": "code",
      "metadata": {
        "scrolled": true,
        "id": "mO8HKI9WZ5mq",
        "colab_type": "code",
        "colab": {
          "base_uri": "https://localhost:8080/",
          "height": 51
        },
        "outputId": "28ba0236-adc5-4b82-f379-e187699bba35"
      },
      "source": [
        "print(\"Accessing single element in 1D array:\", heights_np[-4])\n",
        "print(\"Accessing single element in 2D array:\", weights_or[-5][-1])"
      ],
      "execution_count": null,
      "outputs": [
        {
          "output_type": "stream",
          "text": [
            "Accessing single element in 1D array: 171\n",
            "Accessing single element in 2D array: 90\n"
          ],
          "name": "stdout"
        }
      ]
    },
    {
      "cell_type": "code",
      "metadata": {
        "scrolled": true,
        "id": "Vse7oo3cZ5mt",
        "colab_type": "code",
        "colab": {
          "base_uri": "https://localhost:8080/",
          "height": 164
        },
        "outputId": "0381a91b-4776-484d-f1b6-64162b903044"
      },
      "source": [
        "heights_np[-8]"
      ],
      "execution_count": null,
      "outputs": [
        {
          "output_type": "error",
          "ename": "IndexError",
          "evalue": "ignored",
          "traceback": [
            "\u001b[0;31m---------------------------------------------------------------------------\u001b[0m",
            "\u001b[0;31mIndexError\u001b[0m                                Traceback (most recent call last)",
            "\u001b[0;32m<ipython-input-45-7c81311360da>\u001b[0m in \u001b[0;36m<module>\u001b[0;34m()\u001b[0m\n\u001b[0;32m----> 1\u001b[0;31m \u001b[0mheights_np\u001b[0m\u001b[0;34m[\u001b[0m\u001b[0;34m-\u001b[0m\u001b[0;36m8\u001b[0m\u001b[0;34m]\u001b[0m\u001b[0;34m\u001b[0m\u001b[0;34m\u001b[0m\u001b[0m\n\u001b[0m",
            "\u001b[0;31mIndexError\u001b[0m: index -8 is out of bounds for axis 0 with size 6"
          ]
        }
      ]
    },
    {
      "cell_type": "markdown",
      "metadata": {
        "id": "MzaRvBhjZ5m0",
        "colab_type": "text"
      },
      "source": [
        "**Why are we getting this error message again?**\n",
        "\n",
        "Well guessed! It is because position -8 does not exist in the `heights_np` array, it is totally out of the bounds defined by the array's shape and size. The array has 6 elements, the last element being in position -1 and the first element being in position -6."
      ]
    },
    {
      "cell_type": "markdown",
      "metadata": {
        "id": "bEhC2JC3Z5m1",
        "colab_type": "text"
      },
      "source": [
        "### 6.3 Using positive index intervals"
      ]
    },
    {
      "cell_type": "markdown",
      "metadata": {
        "id": "yMGIQkpXZ5m2",
        "colab_type": "text"
      },
      "source": [
        "When using positive interval indexing `start:end:step`, the starting value is inclusive and the ending value is exlusive. Here are somoe examples:"
      ]
    },
    {
      "cell_type": "code",
      "metadata": {
        "id": "GZKTlyyIZ5m4",
        "colab_type": "code",
        "colab": {
          "base_uri": "https://localhost:8080/",
          "height": 34
        },
        "outputId": "bf5b7275-bc4a-4195-f0e1-800871451b15"
      },
      "source": [
        "heights_np[:2] # The default start value is 0"
      ],
      "execution_count": null,
      "outputs": [
        {
          "output_type": "execute_result",
          "data": {
            "text/plain": [
              "array([165, 170])"
            ]
          },
          "metadata": {
            "tags": []
          },
          "execution_count": 46
        }
      ]
    },
    {
      "cell_type": "code",
      "metadata": {
        "id": "x0G6CBJ6Z5m_",
        "colab_type": "code",
        "colab": {
          "base_uri": "https://localhost:8080/",
          "height": 34
        },
        "outputId": "58609df7-d946-4fb6-8e7c-4718ec2034f0"
      },
      "source": [
        "heights_np[2:] # The default end value is the last value of the array"
      ],
      "execution_count": null,
      "outputs": [
        {
          "output_type": "execute_result",
          "data": {
            "text/plain": [
              "array([171, 180, 189, 178])"
            ]
          },
          "metadata": {
            "tags": []
          },
          "execution_count": 48
        }
      ]
    },
    {
      "cell_type": "code",
      "metadata": {
        "id": "RC6wYYL6Z5nE",
        "colab_type": "code",
        "colab": {
          "base_uri": "https://localhost:8080/",
          "height": 34
        },
        "outputId": "e149a6f4-7368-4435-912c-ea135ad29a60"
      },
      "source": [
        "heights_np[2:3] # The ending value is exlusive"
      ],
      "execution_count": null,
      "outputs": [
        {
          "output_type": "execute_result",
          "data": {
            "text/plain": [
              "array([171])"
            ]
          },
          "metadata": {
            "tags": []
          },
          "execution_count": 47
        }
      ]
    },
    {
      "cell_type": "code",
      "metadata": {
        "id": "_EiLc2LLZ5nI",
        "colab_type": "code",
        "colab": {
          "base_uri": "https://localhost:8080/",
          "height": 136
        },
        "outputId": "93162b30-f5ff-4d6b-e43a-74bd0a474283"
      },
      "source": [
        "weights[:2, ::2]"
      ],
      "execution_count": null,
      "outputs": [
        {
          "output_type": "execute_result",
          "data": {
            "text/plain": [
              "array([[[50, 45],\n",
              "        [78, 89],\n",
              "        [89, 78]],\n",
              "\n",
              "       [[67, 69],\n",
              "        [90, 89],\n",
              "        [89, 59]]])"
            ]
          },
          "metadata": {
            "tags": []
          },
          "execution_count": 49
        }
      ]
    },
    {
      "cell_type": "code",
      "metadata": {
        "id": "jTThDP3XZ5nL",
        "colab_type": "code",
        "colab": {
          "base_uri": "https://localhost:8080/",
          "height": 136
        },
        "outputId": "3dd12612-d987-4cd8-8920-6b1b3e32b91b"
      },
      "source": [
        "weights[:3, 3::]"
      ],
      "execution_count": null,
      "outputs": [
        {
          "output_type": "execute_result",
          "data": {
            "text/plain": [
              "array([[[59, 90],\n",
              "        [89, 78],\n",
              "        [69, 70]],\n",
              "\n",
              "       [[80, 84],\n",
              "        [89, 59],\n",
              "        [90, 78]]])"
            ]
          },
          "metadata": {
            "tags": []
          },
          "execution_count": 50
        }
      ]
    },
    {
      "cell_type": "code",
      "metadata": {
        "id": "ah2UUQQmZ5nO",
        "colab_type": "code",
        "colab": {
          "base_uri": "https://localhost:8080/",
          "height": 136
        },
        "outputId": "9d4f9b6c-bc25-4249-8203-85f0c410df2a"
      },
      "source": [
        "weights[:3, :3, :1]"
      ],
      "execution_count": null,
      "outputs": [
        {
          "output_type": "execute_result",
          "data": {
            "text/plain": [
              "array([[[50],\n",
              "        [56],\n",
              "        [78]],\n",
              "\n",
              "       [[67],\n",
              "        [89],\n",
              "        [90]]])"
            ]
          },
          "metadata": {
            "tags": []
          },
          "execution_count": 51
        }
      ]
    },
    {
      "cell_type": "markdown",
      "metadata": {
        "id": "jBx2wpKWZ5nR",
        "colab_type": "text"
      },
      "source": [
        "### 6.4 Using negative index intervals"
      ]
    },
    {
      "cell_type": "markdown",
      "metadata": {
        "id": "fMEK6lZsZ5nS",
        "colab_type": "text"
      },
      "source": [
        "When using positive interval indexing `start:end:step`, the negative starting value is inclusive and the negative ending value is exlusive. Here are somoe examples:"
      ]
    },
    {
      "cell_type": "code",
      "metadata": {
        "id": "Qtn4VznDZ5nS",
        "colab_type": "code",
        "colab": {
          "base_uri": "https://localhost:8080/",
          "height": 34
        },
        "outputId": "8f41096f-8bd9-45f7-c4a5-6b5006644f99"
      },
      "source": [
        "heights_np[:-4] # Equivalent to heights_np[:2]"
      ],
      "execution_count": null,
      "outputs": [
        {
          "output_type": "execute_result",
          "data": {
            "text/plain": [
              "array([165, 170])"
            ]
          },
          "metadata": {
            "tags": []
          },
          "execution_count": 52
        }
      ]
    },
    {
      "cell_type": "code",
      "metadata": {
        "id": "DtbO0l1TZ5nV",
        "colab_type": "code",
        "colab": {
          "base_uri": "https://localhost:8080/",
          "height": 34
        },
        "outputId": "7e72cbf9-0dc5-47a6-ada6-2c814abed6db"
      },
      "source": [
        "heights_np[-4:] # Equivalent to heights_np[2:]"
      ],
      "execution_count": null,
      "outputs": [
        {
          "output_type": "execute_result",
          "data": {
            "text/plain": [
              "array([171, 180, 189, 178])"
            ]
          },
          "metadata": {
            "tags": []
          },
          "execution_count": 53
        }
      ]
    },
    {
      "cell_type": "code",
      "metadata": {
        "id": "_2XTkaYzZ5nY",
        "colab_type": "code",
        "colab": {
          "base_uri": "https://localhost:8080/",
          "height": 34
        },
        "outputId": "fe075585-694d-445a-b7be-a4d6d223457f"
      },
      "source": [
        "heights_np[-4:-3] # Equivalent to heights_np[2:3]"
      ],
      "execution_count": null,
      "outputs": [
        {
          "output_type": "execute_result",
          "data": {
            "text/plain": [
              "array([171])"
            ]
          },
          "metadata": {
            "tags": []
          },
          "execution_count": 54
        }
      ]
    },
    {
      "cell_type": "code",
      "metadata": {
        "id": "8aH0wJbRZ5ne",
        "colab_type": "code",
        "colab": {
          "base_uri": "https://localhost:8080/",
          "height": 136
        },
        "outputId": "649b7f84-d11e-4adb-be84-281005617460"
      },
      "source": [
        "weights[:2, -3::] # Equivalent to weights[:3, 3::]"
      ],
      "execution_count": null,
      "outputs": [
        {
          "output_type": "execute_result",
          "data": {
            "text/plain": [
              "array([[[59, 90],\n",
              "        [89, 78],\n",
              "        [69, 70]],\n",
              "\n",
              "       [[80, 84],\n",
              "        [89, 59],\n",
              "        [90, 78]]])"
            ]
          },
          "metadata": {
            "tags": []
          },
          "execution_count": 55
        }
      ]
    },
    {
      "cell_type": "code",
      "metadata": {
        "scrolled": true,
        "id": "ZFBRInxoZ5nh",
        "colab_type": "code",
        "colab": {
          "base_uri": "https://localhost:8080/",
          "height": 136
        },
        "outputId": "c4ae93e3-0c4f-4577-ab1c-f908e552ac22"
      },
      "source": [
        "weights[:3, :-3, :-1] # Equivalent to weights[:3, :3, :1]"
      ],
      "execution_count": null,
      "outputs": [
        {
          "output_type": "execute_result",
          "data": {
            "text/plain": [
              "array([[[50],\n",
              "        [56],\n",
              "        [78]],\n",
              "\n",
              "       [[67],\n",
              "        [89],\n",
              "        [90]]])"
            ]
          },
          "metadata": {
            "tags": []
          },
          "execution_count": 56
        }
      ]
    },
    {
      "cell_type": "markdown",
      "metadata": {
        "id": "xrw2UAUuZ5nl",
        "colab_type": "text"
      },
      "source": [
        "## Exercise 3\n",
        "\n",
        "Consider the `weights_or` array:\n",
        "\n",
        "1. Select all the values at evenly positioned rows and oddly positioned columns. Create a new array named `weights_custom1` with these values.\n",
        "2. Express the `weights_custom1` array flattened with an in-memory copy. Call the new array `weights_custom2`.\n",
        "3. Select items in positions 2 to 4 inclusive with negative indexing. Name the output array as `weights_custom3`."
      ]
    },
    {
      "cell_type": "markdown",
      "metadata": {
        "id": "iBHgYcscZ5nm",
        "colab_type": "text"
      },
      "source": [
        "**Answer:**"
      ]
    },
    {
      "cell_type": "code",
      "metadata": {
        "id": "0LEqsyPWZ5nm",
        "colab_type": "code",
        "colab": {
          "base_uri": "https://localhost:8080/",
          "height": 119
        },
        "outputId": "0f21e7ae-250f-4aeb-a710-77edbd4548e8"
      },
      "source": [
        "weights_or"
      ],
      "execution_count": null,
      "outputs": [
        {
          "output_type": "execute_result",
          "data": {
            "text/plain": [
              "array([[50, 45, 56, 78],\n",
              "       [78, 89, 59, 90],\n",
              "       [89, 78, 69, 70],\n",
              "       [67, 69, 89, 70],\n",
              "       [90, 89, 80, 84],\n",
              "       [89, 59, 90, 78]])"
            ]
          },
          "metadata": {
            "tags": []
          },
          "execution_count": 57
        }
      ]
    },
    {
      "cell_type": "code",
      "metadata": {
        "id": "HAxQfsGSZ5nq",
        "colab_type": "code",
        "colab": {
          "base_uri": "https://localhost:8080/",
          "height": 68
        },
        "outputId": "91c6830e-e845-4a08-8188-2597f519e24d"
      },
      "source": [
        "# Answer #1 - Selecting values at even positions in the rows and odd positions in columns\n",
        "weights_custom1 = weights_or[1::2, ::2]\n",
        "weights_custom1"
      ],
      "execution_count": null,
      "outputs": [
        {
          "output_type": "execute_result",
          "data": {
            "text/plain": [
              "array([[78, 59],\n",
              "       [67, 89],\n",
              "       [89, 90]])"
            ]
          },
          "metadata": {
            "tags": []
          },
          "execution_count": 58
        }
      ]
    },
    {
      "cell_type": "code",
      "metadata": {
        "id": "Xj94LskAZ5nv",
        "colab_type": "code",
        "colab": {
          "base_uri": "https://localhost:8080/",
          "height": 34
        },
        "outputId": "0f4b3e32-0a62-4616-d084-c269567cb8b9"
      },
      "source": [
        "# Answer #2 - Expressing the weights_custom1 array flattened with an in-memory copy\n",
        "weights_custom2 = weights_custom1.flatten()\n",
        "weights_custom2"
      ],
      "execution_count": null,
      "outputs": [
        {
          "output_type": "execute_result",
          "data": {
            "text/plain": [
              "array([78, 59, 67, 89, 89, 90])"
            ]
          },
          "metadata": {
            "tags": []
          },
          "execution_count": 59
        }
      ]
    },
    {
      "cell_type": "code",
      "metadata": {
        "id": "OpTnac1OZ5n3",
        "colab_type": "code",
        "colab": {
          "base_uri": "https://localhost:8080/",
          "height": 34
        },
        "outputId": "57dc5e73-abf1-47e9-d365-4385cf1c18e5"
      },
      "source": [
        "# Answer #3 - Selecting the items in positions 2 to 4 inclusive with negative indexing\n",
        "weights_custom3 = weights_custom2[-4:-1]\n",
        "weights_custom3"
      ],
      "execution_count": null,
      "outputs": [
        {
          "output_type": "execute_result",
          "data": {
            "text/plain": [
              "array([67, 89, 89])"
            ]
          },
          "metadata": {
            "tags": []
          },
          "execution_count": 60
        }
      ]
    },
    {
      "cell_type": "markdown",
      "metadata": {
        "id": "cmXdbpmSZ5n7",
        "colab_type": "text"
      },
      "source": [
        "## 7.Manipulating `Numpy` arrays\n"
      ]
    },
    {
      "cell_type": "markdown",
      "metadata": {
        "id": "z1pv6TcuZ5n8",
        "colab_type": "text"
      },
      "source": [
        "Arrays can be manipulated using arithmetic, logical, or relational operations in an element-wise way. Let's see how these operations are applied, using our arrays `weights_or`, `heights_np`, and and some other arrays that we will create."
      ]
    },
    {
      "cell_type": "markdown",
      "metadata": {
        "id": "WhXq8SAVZ5n9",
        "colab_type": "text"
      },
      "source": [
        "### 7.1. Arithmetic operations"
      ]
    },
    {
      "cell_type": "markdown",
      "metadata": {
        "id": "pTaiSOUNZ5n-",
        "colab_type": "text"
      },
      "source": [
        "We are going to operate the content of the arrays with the four traditional arithmetic operations, addition, subtraction, product, and division. Let's first define our arrays again:"
      ]
    },
    {
      "cell_type": "code",
      "metadata": {
        "id": "MFYxucqNZ5n_",
        "colab_type": "code",
        "colab": {},
        "outputId": "a9c6034f-b79a-4c32-be80-51628b1c2ac0"
      },
      "source": [
        "weights_or"
      ],
      "execution_count": null,
      "outputs": [
        {
          "output_type": "execute_result",
          "data": {
            "text/plain": [
              "array([[50, 45, 56, 78],\n",
              "       [78, 89, 59, 90],\n",
              "       [89, 78, 69, 70],\n",
              "       [67, 69, 89, 70],\n",
              "       [90, 89, 80, 84],\n",
              "       [89, 59, 90, 78]])"
            ]
          },
          "metadata": {
            "tags": []
          },
          "execution_count": 57
        }
      ]
    },
    {
      "cell_type": "code",
      "metadata": {
        "id": "jYniPguUZ5oD",
        "colab_type": "code",
        "colab": {},
        "outputId": "7e963ef4-db44-4a13-b258-ed11e140fc1f"
      },
      "source": [
        "heights_2 = np.array([165, 175, 180, 189, 187, 186])\n",
        "print('heights_np:', heights_np) \n",
        "print('heights_2: ', heights_2)"
      ],
      "execution_count": null,
      "outputs": [
        {
          "output_type": "stream",
          "text": [
            "heights_np: [165 170 171 180 189 178]\n",
            "heights_2:  [165 175 180 189 187 186]\n"
          ],
          "name": "stdout"
        }
      ]
    },
    {
      "cell_type": "markdown",
      "metadata": {
        "id": "FutiH6X1Z5oI",
        "colab_type": "text"
      },
      "source": [
        "Let's add the content of the two arrays element-wise:"
      ]
    },
    {
      "cell_type": "code",
      "metadata": {
        "id": "_1NoVrNdZ5oJ",
        "colab_type": "code",
        "colab": {},
        "outputId": "5b20422d-a1b3-40fc-fb01-5d3ecf32a8b8"
      },
      "source": [
        "heights_add = heights_np + heights_2\n",
        "heights_add"
      ],
      "execution_count": null,
      "outputs": [
        {
          "output_type": "execute_result",
          "data": {
            "text/plain": [
              "array([330, 345, 351, 369, 376, 364])"
            ]
          },
          "metadata": {
            "tags": []
          },
          "execution_count": 59
        }
      ]
    },
    {
      "cell_type": "markdown",
      "metadata": {
        "id": "XyX7S8wQZ5oO",
        "colab_type": "text"
      },
      "source": [
        "The `np.add()` function allows adding the content of arrays element-wise:"
      ]
    },
    {
      "cell_type": "code",
      "metadata": {
        "id": "uv1WTfadZ5oP",
        "colab_type": "code",
        "colab": {},
        "outputId": "88e566d2-23ff-4f9d-d3e7-e0640343c7ec"
      },
      "source": [
        "added = np.add(heights_2, heights_np)\n",
        "added"
      ],
      "execution_count": null,
      "outputs": [
        {
          "output_type": "execute_result",
          "data": {
            "text/plain": [
              "array([330, 345, 351, 369, 376, 364])"
            ]
          },
          "metadata": {
            "tags": []
          },
          "execution_count": 60
        }
      ]
    },
    {
      "cell_type": "markdown",
      "metadata": {
        "id": "FI00PwvqZ5oR",
        "colab_type": "text"
      },
      "source": [
        "## Exercise 4\n",
        "\n",
        "Since we have seen how to add element-wise elements of one-dimensional arrays:\n",
        "1. Calculate the subtraction, multiplication and division between the `heights_np` and `heights_2` arrays. Compare the results by using the functions: `np.subtract()`, `np.multiply()`, and `np.divide()`.\n",
        "2. Calculate the product element-wise of the multiplicative inverses ($1/x$) between the arrays `heights_np` and `heights_2`, using numpy functions. For instante, if an element in `heights_np` $x1=5$ and an element in `heights_2` $y1=4$, then the result should be $z=(1/x1)*(1/y1)=1/20=0.05$."
      ]
    },
    {
      "cell_type": "markdown",
      "metadata": {
        "id": "-Mwq9db4Z5oS",
        "colab_type": "text"
      },
      "source": [
        "**Answer:**"
      ]
    },
    {
      "cell_type": "code",
      "metadata": {
        "id": "8n-kgip-Z5oT",
        "colab_type": "code",
        "colab": {},
        "outputId": "1849877f-ec80-418b-f4ee-160cc041277a"
      },
      "source": [
        "# Answer substraction\n",
        "np.subtract(heights_2, heights_np)"
      ],
      "execution_count": null,
      "outputs": [
        {
          "output_type": "execute_result",
          "data": {
            "text/plain": [
              "array([[  0,  10,  15,  24,  22,  21],\n",
              "       [ -5,   5,  10,  19,  17,  16],\n",
              "       [ -6,   4,   9,  18,  16,  15],\n",
              "       [-15,  -5,   0,   9,   7,   6],\n",
              "       [-24, -14,  -9,   0,  -2,  -3],\n",
              "       [-13,  -3,   2,  11,   9,   8]])"
            ]
          },
          "metadata": {
            "tags": []
          },
          "execution_count": 116
        }
      ]
    },
    {
      "cell_type": "code",
      "metadata": {
        "id": "GOxVO3PDZ5od",
        "colab_type": "code",
        "colab": {},
        "outputId": "308b499d-0dd3-4461-d3c3-307c2b7e8cbb"
      },
      "source": [
        "# Answer multiplication\n",
        "np.multiply(heights_2, heights_np)"
      ],
      "execution_count": null,
      "outputs": [
        {
          "output_type": "execute_result",
          "data": {
            "text/plain": [
              "array([[27225, 28875, 29700, 31185, 30855, 30690],\n",
              "       [28050, 29750, 30600, 32130, 31790, 31620],\n",
              "       [28215, 29925, 30780, 32319, 31977, 31806],\n",
              "       [29700, 31500, 32400, 34020, 33660, 33480],\n",
              "       [31185, 33075, 34020, 35721, 35343, 35154],\n",
              "       [29370, 31150, 32040, 33642, 33286, 33108]])"
            ]
          },
          "metadata": {
            "tags": []
          },
          "execution_count": 117
        }
      ]
    },
    {
      "cell_type": "code",
      "metadata": {
        "id": "rqT5TPgzZ5og",
        "colab_type": "code",
        "colab": {},
        "outputId": "479173aa-2802-4ecb-f297-8d18ae25782c"
      },
      "source": [
        "# Answer division\n",
        "np.divide(heights_2, heights_np)"
      ],
      "execution_count": null,
      "outputs": [
        {
          "output_type": "execute_result",
          "data": {
            "text/plain": [
              "array([[1.        , 1.06060606, 1.09090909, 1.14545455, 1.13333333,\n",
              "        1.12727273],\n",
              "       [0.97058824, 1.02941176, 1.05882353, 1.11176471, 1.1       ,\n",
              "        1.09411765],\n",
              "       [0.96491228, 1.02339181, 1.05263158, 1.10526316, 1.09356725,\n",
              "        1.0877193 ],\n",
              "       [0.91666667, 0.97222222, 1.        , 1.05      , 1.03888889,\n",
              "        1.03333333],\n",
              "       [0.87301587, 0.92592593, 0.95238095, 1.        , 0.98941799,\n",
              "        0.98412698],\n",
              "       [0.92696629, 0.98314607, 1.01123596, 1.06179775, 1.0505618 ,\n",
              "        1.04494382]])"
            ]
          },
          "metadata": {
            "tags": []
          },
          "execution_count": 119
        }
      ]
    },
    {
      "cell_type": "code",
      "metadata": {
        "id": "5LFEwax3Z5oj",
        "colab_type": "code",
        "colab": {},
        "outputId": "f5af20e3-a5e9-469c-f2ad-afb7aea962b9"
      },
      "source": [
        "# Without the inclusion of Numpy functions\n",
        "m_inverse1 = (1/heights_2)*(1/heights_np)\n",
        "print('Without Numpy functions:\\n',m_inverse1)\n",
        "\n",
        "# With Numpy functions\n",
        "m_inverse2 = np.multiply(np.divide(1, heights_2),np.divide(1, heights_np))\n",
        "print('\\nWith Numpy functions:\\n',m_inverse2)"
      ],
      "execution_count": null,
      "outputs": [
        {
          "output_type": "stream",
          "text": [
            "Without Numpy functions:\n",
            " [[3.67309458e-05 3.46320346e-05 3.36700337e-05 3.20666987e-05\n",
            "  3.24096581e-05 3.25839036e-05]\n",
            " [3.56506239e-05 3.36134454e-05 3.26797386e-05 3.11235605e-05\n",
            "  3.14564328e-05 3.16255534e-05]\n",
            " [3.54421407e-05 3.34168755e-05 3.24886290e-05 3.09415514e-05\n",
            "  3.12724771e-05 3.14406087e-05]\n",
            " [3.36700337e-05 3.17460317e-05 3.08641975e-05 2.93944738e-05\n",
            "  2.97088532e-05 2.98685783e-05]\n",
            " [3.20666987e-05 3.02343159e-05 2.93944738e-05 2.79947370e-05\n",
            "  2.82941459e-05 2.84462650e-05]\n",
            " [3.40483487e-05 3.21027287e-05 3.12109863e-05 2.97247488e-05\n",
            "  3.00426606e-05 3.02041803e-05]]\n",
            "\n",
            "With Numpy functions:\n",
            " [[3.67309458e-05 3.46320346e-05 3.36700337e-05 3.20666987e-05\n",
            "  3.24096581e-05 3.25839036e-05]\n",
            " [3.56506239e-05 3.36134454e-05 3.26797386e-05 3.11235605e-05\n",
            "  3.14564328e-05 3.16255534e-05]\n",
            " [3.54421407e-05 3.34168755e-05 3.24886290e-05 3.09415514e-05\n",
            "  3.12724771e-05 3.14406087e-05]\n",
            " [3.36700337e-05 3.17460317e-05 3.08641975e-05 2.93944738e-05\n",
            "  2.97088532e-05 2.98685783e-05]\n",
            " [3.20666987e-05 3.02343159e-05 2.93944738e-05 2.79947370e-05\n",
            "  2.82941459e-05 2.84462650e-05]\n",
            " [3.40483487e-05 3.21027287e-05 3.12109863e-05 2.97247488e-05\n",
            "  3.00426606e-05 3.02041803e-05]]\n"
          ],
          "name": "stdout"
        }
      ]
    },
    {
      "cell_type": "markdown",
      "metadata": {
        "id": "lBTEElimZ5ol",
        "colab_type": "text"
      },
      "source": [
        "### 7.2. Logical operations"
      ]
    },
    {
      "cell_type": "markdown",
      "metadata": {
        "id": "9nkATimzZ5om",
        "colab_type": "text"
      },
      "source": [
        "Logical operations are mathematical expressions whose result is a Boolean value of 0 (False) or 1 (True). Among the most common logical operations are the disjunction `or`, conjunction `and`, and negation `not`operations, among others. Let's see an example:"
      ]
    },
    {
      "cell_type": "code",
      "metadata": {
        "id": "uBAjMW5oZ5om",
        "colab_type": "code",
        "colab": {}
      },
      "source": [
        "x = np.array([True, True, False, False])\n",
        "y = np.array([True, False, True, False])"
      ],
      "execution_count": null,
      "outputs": []
    },
    {
      "cell_type": "code",
      "metadata": {
        "id": "-VGHzLTAZ5op",
        "colab_type": "code",
        "colab": {},
        "outputId": "b3c806aa-f191-471e-ac0f-6f0640b07579"
      },
      "source": [
        "np.logical_or(x,y)"
      ],
      "execution_count": null,
      "outputs": [
        {
          "output_type": "execute_result",
          "data": {
            "text/plain": [
              "array([ True,  True,  True, False])"
            ]
          },
          "metadata": {
            "tags": []
          },
          "execution_count": 66
        }
      ]
    },
    {
      "cell_type": "code",
      "metadata": {
        "id": "MOLkzHY6Z5os",
        "colab_type": "code",
        "colab": {},
        "outputId": "eb7a058b-42a4-40df-e639-003f5f4f5560"
      },
      "source": [
        "np.logical_and(x,y)"
      ],
      "execution_count": null,
      "outputs": [
        {
          "output_type": "execute_result",
          "data": {
            "text/plain": [
              "array([ True, False, False, False])"
            ]
          },
          "metadata": {
            "tags": []
          },
          "execution_count": 67
        }
      ]
    },
    {
      "cell_type": "code",
      "metadata": {
        "id": "aQmwxaw-Z5ov",
        "colab_type": "code",
        "colab": {},
        "outputId": "de44b485-7279-47b7-9963-b38f7f3cc309"
      },
      "source": [
        "np.logical_not(x)"
      ],
      "execution_count": null,
      "outputs": [
        {
          "output_type": "execute_result",
          "data": {
            "text/plain": [
              "array([False, False,  True,  True])"
            ]
          },
          "metadata": {
            "tags": []
          },
          "execution_count": 68
        }
      ]
    },
    {
      "cell_type": "markdown",
      "metadata": {
        "id": "7QszcDUbZ5ox",
        "colab_type": "text"
      },
      "source": [
        "### 7.3.Comparison - Relational operators"
      ]
    },
    {
      "cell_type": "markdown",
      "metadata": {
        "id": "t3n1G5uyZ5oy",
        "colab_type": "text"
      },
      "source": [
        "The comparison operators allow us to compare the values of the content of `numpy` arrays element-wise. Some operators of interest (a) equality operator `np.equal()`, (b) less than operator `np.less()`/`np.less_equal()`, (c) greater than operator `np.greater()`/`np.greater_equal()`, and (d) difference operator `np.not_equal()`. It is important to note that the output will always be Boolean 0 (False) or 1 (True).\n",
        "\n",
        "Let's see some examples:"
      ]
    },
    {
      "cell_type": "code",
      "metadata": {
        "id": "dOkqurwhZ5o2",
        "colab_type": "code",
        "colab": {}
      },
      "source": [
        "x = np.array([1, 8, 3, 7, 3, 21])\n",
        "y = np.array([4, 8, 1, 7, 6, 9])"
      ],
      "execution_count": null,
      "outputs": []
    },
    {
      "cell_type": "code",
      "metadata": {
        "id": "9-Bg51yrZ5o4",
        "colab_type": "code",
        "colab": {},
        "outputId": "c947349e-8e0b-41e3-c58d-cee6768a6fd2"
      },
      "source": [
        "np.equal(x,y)"
      ],
      "execution_count": null,
      "outputs": [
        {
          "output_type": "execute_result",
          "data": {
            "text/plain": [
              "array([False,  True, False,  True, False, False])"
            ]
          },
          "metadata": {
            "tags": []
          },
          "execution_count": 70
        }
      ]
    },
    {
      "cell_type": "code",
      "metadata": {
        "id": "WjfjBkTQZ5o6",
        "colab_type": "code",
        "colab": {},
        "outputId": "2a45ea0c-168a-46c6-db2d-0c9d1a9d89d9"
      },
      "source": [
        "np.not_equal(x,y)"
      ],
      "execution_count": null,
      "outputs": [
        {
          "output_type": "execute_result",
          "data": {
            "text/plain": [
              "array([ True, False,  True, False,  True,  True])"
            ]
          },
          "metadata": {
            "tags": []
          },
          "execution_count": 71
        }
      ]
    },
    {
      "cell_type": "code",
      "metadata": {
        "id": "ZGDOMFugZ5o9",
        "colab_type": "code",
        "colab": {},
        "outputId": "2c025b28-2dec-4843-e637-32c25fe04a8c"
      },
      "source": [
        "np.less_equal(x,y)"
      ],
      "execution_count": null,
      "outputs": [
        {
          "output_type": "execute_result",
          "data": {
            "text/plain": [
              "array([ True,  True, False,  True,  True, False])"
            ]
          },
          "metadata": {
            "tags": []
          },
          "execution_count": 72
        }
      ]
    },
    {
      "cell_type": "code",
      "metadata": {
        "id": "WwTQmzjIZ5pA",
        "colab_type": "code",
        "colab": {},
        "outputId": "49e4cd3e-3b73-4705-abd5-2d6f7aba88f9"
      },
      "source": [
        "np.greater_equal(x,y)"
      ],
      "execution_count": null,
      "outputs": [
        {
          "output_type": "execute_result",
          "data": {
            "text/plain": [
              "array([False,  True,  True,  True, False,  True])"
            ]
          },
          "metadata": {
            "tags": []
          },
          "execution_count": 73
        }
      ]
    },
    {
      "cell_type": "code",
      "metadata": {
        "id": "b6lad6HEZ5pD",
        "colab_type": "code",
        "colab": {},
        "outputId": "68e1fdb3-9ed2-4cb3-ed71-2da93b283f70"
      },
      "source": [
        "np.array_equal(x,y) # Comparing the entire content of both arrays"
      ],
      "execution_count": null,
      "outputs": [
        {
          "output_type": "execute_result",
          "data": {
            "text/plain": [
              "False"
            ]
          },
          "metadata": {
            "tags": []
          },
          "execution_count": 74
        }
      ]
    },
    {
      "cell_type": "code",
      "metadata": {
        "id": "41uUkAkjZ5pG",
        "colab_type": "code",
        "colab": {},
        "outputId": "8da9eba7-3d46-42e0-8e09-01fae23b0d39"
      },
      "source": [
        "x = np.array([1, 8, 3, 7, 3, 21])\n",
        "y = np.array(list((1, 8, 3, 7, 3, 21)))\n",
        "np.array_equal(x,y) # Comparing the entire content of both arrays"
      ],
      "execution_count": null,
      "outputs": [
        {
          "output_type": "execute_result",
          "data": {
            "text/plain": [
              "True"
            ]
          },
          "metadata": {
            "tags": []
          },
          "execution_count": 75
        }
      ]
    },
    {
      "cell_type": "markdown",
      "metadata": {
        "id": "pOnhsLLXZ5pI",
        "colab_type": "text"
      },
      "source": [
        "## 8. Broadcasting"
      ]
    },
    {
      "cell_type": "markdown",
      "metadata": {
        "id": "E7VJ1hr6Z5pJ",
        "colab_type": "text"
      },
      "source": [
        "`numpy` has the ability of operating arrays of different shapes during arithmetic operations using **broadcasting**, so that arithmetic operations on arrays are done on corresponding elements. The boradcasting operation replicates one of the arrays along the dimensions the other, if there is a mismatch of shapes. Consider the following arrays:"
      ]
    },
    {
      "cell_type": "code",
      "metadata": {
        "id": "JSGnAadaZ5pJ",
        "colab_type": "code",
        "colab": {
          "base_uri": "https://localhost:8080/",
          "height": 119
        },
        "outputId": "78e8ddf2-d5f1-402d-a77e-f245255bc233"
      },
      "source": [
        "heights_np = heights_np.reshape((6,1))\n",
        "heights_np"
      ],
      "execution_count": null,
      "outputs": [
        {
          "output_type": "execute_result",
          "data": {
            "text/plain": [
              "array([[165],\n",
              "       [170],\n",
              "       [171],\n",
              "       [180],\n",
              "       [189],\n",
              "       [178]])"
            ]
          },
          "metadata": {
            "tags": []
          },
          "execution_count": 62
        }
      ]
    },
    {
      "cell_type": "code",
      "metadata": {
        "id": "tZ2xYkY1Z5pM",
        "colab_type": "code",
        "colab": {
          "base_uri": "https://localhost:8080/",
          "height": 238
        },
        "outputId": "0b2eb76c-2fc5-4fbc-9c4e-aace6f57aef0"
      },
      "source": [
        "weights"
      ],
      "execution_count": null,
      "outputs": [
        {
          "output_type": "execute_result",
          "data": {
            "text/plain": [
              "array([[[50, 45],\n",
              "        [56, 78],\n",
              "        [78, 89],\n",
              "        [59, 90],\n",
              "        [89, 78],\n",
              "        [69, 70]],\n",
              "\n",
              "       [[67, 69],\n",
              "        [89, 70],\n",
              "        [90, 89],\n",
              "        [80, 84],\n",
              "        [89, 59],\n",
              "        [90, 78]]])"
            ]
          },
          "metadata": {
            "tags": []
          },
          "execution_count": 63
        }
      ]
    },
    {
      "cell_type": "markdown",
      "metadata": {
        "id": "eUVD3kJvZ5pP",
        "colab_type": "text"
      },
      "source": [
        "We are going to add the elements of both arrays:"
      ]
    },
    {
      "cell_type": "code",
      "metadata": {
        "id": "Xbit_phhZ5pP",
        "colab_type": "code",
        "colab": {
          "base_uri": "https://localhost:8080/",
          "height": 238
        },
        "outputId": "80a34526-3454-4db7-cc5e-0aaaf2f18b8c"
      },
      "source": [
        "broad_np = heights_np + weights\n",
        "broad_np"
      ],
      "execution_count": null,
      "outputs": [
        {
          "output_type": "execute_result",
          "data": {
            "text/plain": [
              "array([[[215, 210],\n",
              "        [226, 248],\n",
              "        [249, 260],\n",
              "        [239, 270],\n",
              "        [278, 267],\n",
              "        [247, 248]],\n",
              "\n",
              "       [[232, 234],\n",
              "        [259, 240],\n",
              "        [261, 260],\n",
              "        [260, 264],\n",
              "        [278, 248],\n",
              "        [268, 256]]])"
            ]
          },
          "metadata": {
            "tags": []
          },
          "execution_count": 64
        }
      ]
    },
    {
      "cell_type": "markdown",
      "metadata": {
        "id": "K2eVe5XLZ5pV",
        "colab_type": "text"
      },
      "source": [
        "Although the arrays have different dimensions, `numpy` makes a sum for the corresponding elements in common rows and columns, in such a way that the elements of the column vector `heights_np` are added with each column of the two-dimensional vector `weights`.\n",
        "\n",
        "Let's look at one more example:"
      ]
    },
    {
      "cell_type": "code",
      "metadata": {
        "id": "Jv6Xd5T0Z5pW",
        "colab_type": "code",
        "colab": {}
      },
      "source": [
        "x = np.ones((3,4))\n",
        "y = np.random.random((5,1,4))"
      ],
      "execution_count": null,
      "outputs": []
    },
    {
      "cell_type": "code",
      "metadata": {
        "id": "IKK23tiTZ5pZ",
        "colab_type": "code",
        "colab": {
          "base_uri": "https://localhost:8080/",
          "height": 68
        },
        "outputId": "f4c1808f-262b-4a0e-9ad2-735bba86d969"
      },
      "source": [
        "x"
      ],
      "execution_count": null,
      "outputs": [
        {
          "output_type": "execute_result",
          "data": {
            "text/plain": [
              "array([[1., 1., 1., 1.],\n",
              "       [1., 1., 1., 1.],\n",
              "       [1., 1., 1., 1.]])"
            ]
          },
          "metadata": {
            "tags": []
          },
          "execution_count": 66
        }
      ]
    },
    {
      "cell_type": "code",
      "metadata": {
        "id": "V7UWQpQQZ5pd",
        "colab_type": "code",
        "colab": {
          "base_uri": "https://localhost:8080/",
          "height": 170
        },
        "outputId": "735c5839-2090-4502-d568-ad360456e4ee"
      },
      "source": [
        "y"
      ],
      "execution_count": null,
      "outputs": [
        {
          "output_type": "execute_result",
          "data": {
            "text/plain": [
              "array([[[0.13085833, 0.80526732, 0.8190473 , 0.14758539]],\n",
              "\n",
              "       [[0.45811975, 0.19944582, 0.26073695, 0.00312266]],\n",
              "\n",
              "       [[0.24556815, 0.38796454, 0.61759789, 0.76028244]],\n",
              "\n",
              "       [[0.33885858, 0.93035562, 0.47446898, 0.36757866]],\n",
              "\n",
              "       [[0.53036978, 0.0673203 , 0.80959508, 0.40458751]]])"
            ]
          },
          "metadata": {
            "tags": []
          },
          "execution_count": 67
        }
      ]
    },
    {
      "cell_type": "code",
      "metadata": {
        "id": "B7LG4m8xZ5ph",
        "colab_type": "code",
        "colab": {
          "base_uri": "https://localhost:8080/",
          "height": 340
        },
        "outputId": "a50f78ef-2030-43a8-d91b-78873574dfcd"
      },
      "source": [
        "z = x + y\n",
        "z"
      ],
      "execution_count": null,
      "outputs": [
        {
          "output_type": "execute_result",
          "data": {
            "text/plain": [
              "array([[[1.13085833, 1.80526732, 1.8190473 , 1.14758539],\n",
              "        [1.13085833, 1.80526732, 1.8190473 , 1.14758539],\n",
              "        [1.13085833, 1.80526732, 1.8190473 , 1.14758539]],\n",
              "\n",
              "       [[1.45811975, 1.19944582, 1.26073695, 1.00312266],\n",
              "        [1.45811975, 1.19944582, 1.26073695, 1.00312266],\n",
              "        [1.45811975, 1.19944582, 1.26073695, 1.00312266]],\n",
              "\n",
              "       [[1.24556815, 1.38796454, 1.61759789, 1.76028244],\n",
              "        [1.24556815, 1.38796454, 1.61759789, 1.76028244],\n",
              "        [1.24556815, 1.38796454, 1.61759789, 1.76028244]],\n",
              "\n",
              "       [[1.33885858, 1.93035562, 1.47446898, 1.36757866],\n",
              "        [1.33885858, 1.93035562, 1.47446898, 1.36757866],\n",
              "        [1.33885858, 1.93035562, 1.47446898, 1.36757866]],\n",
              "\n",
              "       [[1.53036978, 1.0673203 , 1.80959508, 1.40458751],\n",
              "        [1.53036978, 1.0673203 , 1.80959508, 1.40458751],\n",
              "        [1.53036978, 1.0673203 , 1.80959508, 1.40458751]]])"
            ]
          },
          "metadata": {
            "tags": []
          },
          "execution_count": 68
        }
      ]
    },
    {
      "cell_type": "markdown",
      "metadata": {
        "id": "CoMIA9U8Z5pk",
        "colab_type": "text"
      },
      "source": [
        "Here each row in array `y` has been paired with rows in array `x`, since they have the same amount of column. The result is an array with triple the rows of array `y` and the same number of columns."
      ]
    },
    {
      "cell_type": "markdown",
      "metadata": {
        "id": "qd9pZx8_Z5pl",
        "colab_type": "text"
      },
      "source": [
        "## Exercise 5\n",
        "\n",
        "Propose an array `y` such that the operation $x + y$ results in the array `z`.\n",
        "```\n",
        "x = [[14, 15, 18],\n",
        "    [62, 90, 98],\n",
        "    [71, 73, 90],\n",
        "    [40, 24, 17],\n",
        "    [11, 81, 14],\n",
        "    [26, 81, 31]]\n",
        "\n",
        "z = [[24,  40,  58],\n",
        "    [72, 115, 138],\n",
        "    [81,  98, 130],\n",
        "    [50,  49,  57],\n",
        "    [21, 106,  54],\n",
        "    [36, 106,  71]]\n",
        "```"
      ]
    },
    {
      "cell_type": "markdown",
      "metadata": {
        "id": "idYZ1SK-Z5pm",
        "colab_type": "text"
      },
      "source": [
        "**Answer:**"
      ]
    },
    {
      "cell_type": "code",
      "metadata": {
        "id": "iKK-jmTLZ5pm",
        "colab_type": "code",
        "colab": {
          "base_uri": "https://localhost:8080/",
          "height": 34
        },
        "outputId": "338c2e79-8dcb-4839-89a2-a457cc14a305"
      },
      "source": [
        "# x and z arrays\n",
        "x = np.array([[14,15,18],[62,90,98],[71,73,90],[40,24,17],[11,81,14],[26,81,31]])\n",
        "z = np.array([[24,40,58],[72,115,138],[81,98,130],[50,49,57],[21,106,54],[36,106,71]])\n",
        "\n",
        "# y array definition\n",
        "y = np.array([[10, 25, 40]]) # This is the 'y' array needed\n",
        "adding = x + y\n",
        "\n",
        "# broadcasting verification\n",
        "np.array_equal(z, adding)"
      ],
      "execution_count": null,
      "outputs": [
        {
          "output_type": "execute_result",
          "data": {
            "text/plain": [
              "True"
            ]
          },
          "metadata": {
            "tags": []
          },
          "execution_count": 61
        }
      ]
    },
    {
      "cell_type": "markdown",
      "metadata": {
        "id": "v_-gRJ7gZ5pp",
        "colab_type": "text"
      },
      "source": [
        "## 9.Matrix multiplication"
      ]
    },
    {
      "cell_type": "markdown",
      "metadata": {
        "id": "gr_EnveCZ5pq",
        "colab_type": "text"
      },
      "source": [
        "Let's delve into the element-wise and dot product multiplication between matrices (two-dimensional arrays). First, we define two matrices:"
      ]
    },
    {
      "cell_type": "code",
      "metadata": {
        "id": "s_hTILL0Z5pq",
        "colab_type": "code",
        "colab": {
          "base_uri": "https://localhost:8080/",
          "height": 187
        },
        "outputId": "891b3861-5313-4cfd-ed4d-efd2b84a941b"
      },
      "source": [
        "A = np.array([[1,1,8],[0,1,9],[9,0,8]])\n",
        "print(\"Matrix A:\\n\", A, '\\n')\n",
        "\n",
        "B = np.array([[2,0,0],[3,4,9],[7,8,9]])\n",
        "print('MATRIX B:\\n', B, '\\n')"
      ],
      "execution_count": null,
      "outputs": [
        {
          "output_type": "stream",
          "text": [
            "Matrix A:\n",
            " [[1 1 8]\n",
            " [0 1 9]\n",
            " [9 0 8]] \n",
            "\n",
            "MATRIX B:\n",
            " [[2 0 0]\n",
            " [3 4 9]\n",
            " [7 8 9]] \n",
            "\n"
          ],
          "name": "stdout"
        }
      ]
    },
    {
      "cell_type": "markdown",
      "metadata": {
        "id": "-Qk9PSgWZ5ps",
        "colab_type": "text"
      },
      "source": [
        "The product between the two matrices can be executed with the classic arithmetic operator `*`:"
      ]
    },
    {
      "cell_type": "code",
      "metadata": {
        "id": "trJs0pT4Z5pt",
        "colab_type": "code",
        "colab": {
          "base_uri": "https://localhost:8080/",
          "height": 102
        },
        "outputId": "4a6bc761-8cd7-4747-b93e-3ae718380e17"
      },
      "source": [
        "print(\"Element wise multiplication:\\n\", A*B, '\\n')"
      ],
      "execution_count": null,
      "outputs": [
        {
          "output_type": "stream",
          "text": [
            "Element wise multiplication:\n",
            " [[ 2  0  0]\n",
            " [ 0  4 81]\n",
            " [63  0 72]] \n",
            "\n"
          ],
          "name": "stdout"
        }
      ]
    },
    {
      "cell_type": "markdown",
      "metadata": {
        "id": "XvvOP3zZZ5pv",
        "colab_type": "text"
      },
      "source": [
        "The dot product of matrices can be executed with the `@` operator or with the numpy `np.dot()` function:"
      ]
    },
    {
      "cell_type": "code",
      "metadata": {
        "id": "XLRqk59oZ5pw",
        "colab_type": "code",
        "colab": {
          "base_uri": "https://localhost:8080/",
          "height": 187
        },
        "outputId": "4521593c-a5ac-4732-e57b-5d7f3e5f99d5"
      },
      "source": [
        "print(\"Matrix product:\\n\", A@B, '\\n') # matrix A = (2 ,3) , matrix B= (3,4), output matrix =( 2,4)\n",
        "print(\"Dot product:\\n\", A.dot(B), '\\n')"
      ],
      "execution_count": null,
      "outputs": [
        {
          "output_type": "stream",
          "text": [
            "Matrix product:\n",
            " [[61 68 81]\n",
            " [66 76 90]\n",
            " [74 64 72]] \n",
            "\n",
            "Dot product:\n",
            " [[61 68 81]\n",
            " [66 76 90]\n",
            " [74 64 72]] \n",
            "\n"
          ],
          "name": "stdout"
        }
      ]
    },
    {
      "cell_type": "markdown",
      "metadata": {
        "id": "JZWHSnNbZ5p0",
        "colab_type": "text"
      },
      "source": [
        "## 10. Arrays with `random` numbers"
      ]
    },
    {
      "cell_type": "markdown",
      "metadata": {
        "id": "UiujlgIpZ5p0",
        "colab_type": "text"
      },
      "source": [
        "A random number is a result of a variable combination specified by a distribution function. When no distribution is specified, it is assumed that the continuous uniform distribution in the interval [0,1) is used. Some functions for generating random numpy numbers are:\n",
        "- `np.random.random()`: returns random floats in the half-open interval [0.0, 1.0)\n",
        "- `np.random.randint(low, high)`: returns random integers from low (inclusive) to high (exclusive).\n",
        "- `np.random.normal()`: returns random samples from a normal (Gaussian) distribution.\n",
        "\n",
        "Let's see some examples:"
      ]
    },
    {
      "cell_type": "code",
      "metadata": {
        "id": "tVKK7CLqZ5p1",
        "colab_type": "code",
        "colab": {
          "base_uri": "https://localhost:8080/",
          "height": 85
        },
        "outputId": "9e5a4765-58bc-4224-95aa-696424859b8a"
      },
      "source": [
        "np.random.random((4,3))"
      ],
      "execution_count": null,
      "outputs": [
        {
          "output_type": "execute_result",
          "data": {
            "text/plain": [
              "array([[0.52604029, 0.30751932, 0.41833336],\n",
              "       [0.21085875, 0.29296895, 0.19143364],\n",
              "       [0.65572723, 0.33333311, 0.31802408],\n",
              "       [0.86704471, 0.35296883, 0.10422447]])"
            ]
          },
          "metadata": {
            "tags": []
          },
          "execution_count": 73
        }
      ]
    },
    {
      "cell_type": "code",
      "metadata": {
        "id": "yjO16WU8Z5p5",
        "colab_type": "code",
        "colab": {
          "base_uri": "https://localhost:8080/",
          "height": 51
        },
        "outputId": "4cb4d4b0-a81b-4066-a62e-57444f1af296"
      },
      "source": [
        "np.random.randint(10, 20, size=(2, 4))"
      ],
      "execution_count": null,
      "outputs": [
        {
          "output_type": "execute_result",
          "data": {
            "text/plain": [
              "array([[14, 12, 11, 19],\n",
              "       [16, 11, 14, 15]])"
            ]
          },
          "metadata": {
            "tags": []
          },
          "execution_count": 74
        }
      ]
    },
    {
      "cell_type": "code",
      "metadata": {
        "id": "D_fGM7DmZ5p8",
        "colab_type": "code",
        "colab": {
          "base_uri": "https://localhost:8080/",
          "height": 51
        },
        "outputId": "4cd95ee2-79d3-487b-a23a-7d41dc36569d"
      },
      "source": [
        "np.random.normal(size=10)"
      ],
      "execution_count": null,
      "outputs": [
        {
          "output_type": "execute_result",
          "data": {
            "text/plain": [
              "array([-0.55860174,  0.11073249, -1.00525436, -2.03846469, -0.85820413,\n",
              "        1.33344669,  0.71105055,  1.5859428 , -0.19418491, -1.33642467])"
            ]
          },
          "metadata": {
            "tags": []
          },
          "execution_count": 75
        }
      ]
    },
    {
      "cell_type": "markdown",
      "metadata": {
        "id": "tTkdzBtlZ5qC",
        "colab_type": "text"
      },
      "source": [
        "Ee can also specify a `seed`, so that the sequence of random numbers is repeatable (if you execute the following code several times, you will get the same random results):"
      ]
    },
    {
      "cell_type": "code",
      "metadata": {
        "id": "s0k8ClTEZ5qD",
        "colab_type": "code",
        "colab": {
          "base_uri": "https://localhost:8080/",
          "height": 51
        },
        "outputId": "f0d48f65-93f8-496f-9de2-ff2581c14a29"
      },
      "source": [
        "from numpy.random import seed\n",
        "from numpy.random import rand\n",
        "\n",
        "# Seed random number generator\n",
        "seed(42)\n",
        "\n",
        "# Generate random numbers between 0-1\n",
        "values = rand(10)\n",
        "print(values)"
      ],
      "execution_count": null,
      "outputs": [
        {
          "output_type": "stream",
          "text": [
            "[0.37454012 0.95071431 0.73199394 0.59865848 0.15601864 0.15599452\n",
            " 0.05808361 0.86617615 0.60111501 0.70807258]\n"
          ],
          "name": "stdout"
        }
      ]
    },
    {
      "cell_type": "markdown",
      "metadata": {
        "id": "5it3E9MjZ5qM",
        "colab_type": "text"
      },
      "source": [
        "## 11. Concatenate, and stack `Numpy` arrays"
      ]
    },
    {
      "cell_type": "markdown",
      "metadata": {
        "id": "fHatrcmgZ5qN",
        "colab_type": "text"
      },
      "source": [
        "The **concatenation** `np.concatenate()` is a process of joining several arrays to form one, on the same axis. **Stacking** `np.stack()` is a process of joining arrays on a new axis. Let's dive a little bit more on this concepts with practical examples:"
      ]
    },
    {
      "cell_type": "code",
      "metadata": {
        "id": "-lPKFCvCZ5qO",
        "colab_type": "code",
        "colab": {
          "base_uri": "https://localhost:8080/",
          "height": 51
        },
        "outputId": "944b5892-7fa8-492d-a0cd-08ac6b1fa407"
      },
      "source": [
        "my_array = np.array([1,2,34,5])\n",
        "x = np.array([1,4,5,6])\n",
        "print('x: \\t  ', x)\n",
        "print('my_array: ', my_array)"
      ],
      "execution_count": null,
      "outputs": [
        {
          "output_type": "stream",
          "text": [
            "x: \t   [1 4 5 6]\n",
            "my_array:  [ 1  2 34  5]\n"
          ],
          "name": "stdout"
        }
      ]
    },
    {
      "cell_type": "code",
      "metadata": {
        "id": "jFgTZtXKZ5qS",
        "colab_type": "code",
        "colab": {
          "base_uri": "https://localhost:8080/",
          "height": 102
        },
        "outputId": "cb985889-c093-4089-83e3-603a8e97b47a"
      },
      "source": [
        "print('Append:\\n',np.append(my_array,x))\n",
        "y = np.append(my_array, x)\n",
        "\n",
        "# Concatentate `my_array` and `x`\n",
        "print('\\nConcatenate:\\n',np.concatenate((my_array,x)))"
      ],
      "execution_count": null,
      "outputs": [
        {
          "output_type": "stream",
          "text": [
            "Append:\n",
            " [ 1  2 34  5  1  4  5  6]\n",
            "\n",
            "Concatenate:\n",
            " [ 1  2 34  5  1  4  5  6]\n"
          ],
          "name": "stdout"
        }
      ]
    },
    {
      "cell_type": "code",
      "metadata": {
        "id": "29Y3P5WbZ5qU",
        "colab_type": "code",
        "colab": {
          "base_uri": "https://localhost:8080/",
          "height": 68
        },
        "outputId": "b34c4a12-a0dc-4cc8-e4b8-155016947247"
      },
      "source": [
        "# Stack arrays vertically (row-wise)\n",
        "print(\"Stack row wise:\")\n",
        "print(np.vstack((my_array, x)))"
      ],
      "execution_count": null,
      "outputs": [
        {
          "output_type": "stream",
          "text": [
            "Stack row wise:\n",
            "[[ 1  2 34  5]\n",
            " [ 1  4  5  6]]\n"
          ],
          "name": "stdout"
        }
      ]
    },
    {
      "cell_type": "code",
      "metadata": {
        "id": "OyENnOVrZ5qY",
        "colab_type": "code",
        "colab": {
          "base_uri": "https://localhost:8080/",
          "height": 102
        },
        "outputId": "8f938f3e-8983-4631-99f4-c27c90d8f3cf"
      },
      "source": [
        "# Stack arrays horizontally\n",
        "print(\"Stack horizantally:\")\n",
        "print(np.hstack((my_array,x)))\n",
        "\n",
        "print(\"\\nAnother way:\")\n",
        "print(np.r_[my_array,x])"
      ],
      "execution_count": null,
      "outputs": [
        {
          "output_type": "stream",
          "text": [
            "Stack horizantally:\n",
            "[ 1  2 34  5  1  4  5  6]\n",
            "\n",
            "Another way:\n",
            "[ 1  2 34  5  1  4  5  6]\n"
          ],
          "name": "stdout"
        }
      ]
    },
    {
      "cell_type": "code",
      "metadata": {
        "id": "1j2KYDPuZ5qa",
        "colab_type": "code",
        "colab": {
          "base_uri": "https://localhost:8080/",
          "height": 204
        },
        "outputId": "e72dfdfe-9e63-4b5a-dc27-b9489da13600"
      },
      "source": [
        "# Stack arrays column-wise\n",
        "print(\"Stack column wise:\")\n",
        "print(np.column_stack(( my_array,x)))\n",
        "\n",
        "print(\"\\nColumn wise repeat:\")\n",
        "print(np.c_[ my_array,x])"
      ],
      "execution_count": null,
      "outputs": [
        {
          "output_type": "stream",
          "text": [
            "Stack column wise:\n",
            "[[ 1  1]\n",
            " [ 2  4]\n",
            " [34  5]\n",
            " [ 5  6]]\n",
            "\n",
            "Column wise repeat:\n",
            "[[ 1  1]\n",
            " [ 2  4]\n",
            " [34  5]\n",
            " [ 5  6]]\n"
          ],
          "name": "stdout"
        }
      ]
    },
    {
      "cell_type": "markdown",
      "metadata": {
        "id": "0-iErP4tZ5qc",
        "colab_type": "text"
      },
      "source": [
        "As you have seen, when we concatenate the arrays, we do it on the same axis. When stacking arrays, we do it on a new axis."
      ]
    },
    {
      "cell_type": "markdown",
      "metadata": {
        "id": "hm1LM39XZ5qd",
        "colab_type": "text"
      },
      "source": [
        "## 12. Visualize `Numpy` array"
      ]
    },
    {
      "cell_type": "markdown",
      "metadata": {
        "id": "ktM-rkhpZ5qd",
        "colab_type": "text"
      },
      "source": [
        "To visualize the content of a numpy array we can make use of the `matplotlib.pyplot` library, which allows us to visualize data and its distributions, among many other functions."
      ]
    },
    {
      "cell_type": "code",
      "metadata": {
        "id": "ZB5qyJZkZ5qd",
        "colab_type": "code",
        "colab": {}
      },
      "source": [
        "import matplotlib.pyplot as plt"
      ],
      "execution_count": null,
      "outputs": []
    },
    {
      "cell_type": "markdown",
      "metadata": {
        "id": "wjL90VTbZ5qf",
        "colab_type": "text"
      },
      "source": [
        "Let's specify an initial state for the Mersenne Twister number generator, a pseudo-random number generator:"
      ]
    },
    {
      "cell_type": "code",
      "metadata": {
        "id": "qc86Bv2-Z5qg",
        "colab_type": "code",
        "colab": {}
      },
      "source": [
        "rng = np.random.RandomState(10)  "
      ],
      "execution_count": null,
      "outputs": []
    },
    {
      "cell_type": "markdown",
      "metadata": {
        "id": "8-FRPjxTZ5qi",
        "colab_type": "text"
      },
      "source": [
        "Now we generate random values of two normal distributions with different mean and standard deviation, a distribution of mean 0 and another of mean 5, stacking them in a single array horizontally:"
      ]
    },
    {
      "cell_type": "code",
      "metadata": {
        "id": "TxXtC9EJZ5qi",
        "colab_type": "code",
        "colab": {
          "base_uri": "https://localhost:8080/",
          "height": 51
        },
        "outputId": "9bdfc771-c524-42b2-b0a1-f443f3d3c74c"
      },
      "source": [
        "a = np.hstack((rng.normal(size=1000),rng.normal(loc=5, scale=2, size=1000)))\n",
        "a"
      ],
      "execution_count": null,
      "outputs": [
        {
          "output_type": "execute_result",
          "data": {
            "text/plain": [
              "array([ 1.3315865 ,  0.71527897, -1.54540029, ...,  5.74446677,\n",
              "        6.22449239,  8.42055014])"
            ]
          },
          "metadata": {
            "tags": []
          },
          "execution_count": 84
        }
      ]
    },
    {
      "cell_type": "markdown",
      "metadata": {
        "id": "FnETh3ORZ5ql",
        "colab_type": "text"
      },
      "source": [
        "Let's visualize the data of the number arrangement of the two distributions, in a histogram with the help of the library `matplotlib.pyplot` to which we have aliased `plt`:"
      ]
    },
    {
      "cell_type": "code",
      "metadata": {
        "id": "hdEF9hnxZ5ql",
        "colab_type": "code",
        "colab": {
          "base_uri": "https://localhost:8080/",
          "height": 281
        },
        "outputId": "df506ee5-32ce-486a-f3b7-bba5b328463c"
      },
      "source": [
        "plt.hist(a, bins='auto')\n",
        "plt.title(\"Histogram\")\n",
        "plt.show()"
      ],
      "execution_count": null,
      "outputs": [
        {
          "output_type": "display_data",
          "data": {
            "image/png": "[encoded data removed]",
            "text/plain": [
              "<Figure size 432x288 with 1 Axes>"
            ]
          },
          "metadata": {
            "tags": [],
            "needs_background": "light"
          }
        }
      ]
    },
    {
      "cell_type": "markdown",
      "metadata": {
        "id": "WsJtUtjfZ5qn",
        "colab_type": "text"
      },
      "source": [
        "As can be seen, this graph denotes the distribution of the two normal distributions with a mean of 0 and 5.\n",
        "\n",
        "As an additional example, we are creating a meshgrid `np.meshgrid()` with values generated from an array of `numpy` with initial value of 5, final value of -5 (exclusive) and step of 0.01. We have calculated the value of `z` which corresponds to the general equation of a circle, so that we can generate the graph shown below:"
      ]
    },
    {
      "cell_type": "code",
      "metadata": {
        "id": "eKU0soJgZ5qo",
        "colab_type": "code",
        "colab": {
          "base_uri": "https://localhost:8080/",
          "height": 269
        },
        "outputId": "0a2fedfe-d641-4110-f5cd-aacc4d192e57"
      },
      "source": [
        "# Create an array\n",
        "points = np.arange(-5, 5, 0.01)\n",
        "\n",
        "# Make a meshgrid\n",
        "xs, ys = np.meshgrid(points, points)\n",
        "z = np.sqrt(xs ** 2 + ys ** 2)\n",
        "\n",
        "# Display the image on the axes\n",
        "plt.imshow(z, cmap=plt.cm.Blues)\n",
        "\n",
        "# Draw a color bar\n",
        "plt.colorbar()\n",
        "\n",
        "# Show the plot\n",
        "plt.show()"
      ],
      "execution_count": null,
      "outputs": [
        {
          "output_type": "display_data",
          "data": {
            "image/png": "[encoded data removed]",
            "text/plain": [
              "<Figure size 432x288 with 2 Axes>"
            ]
          },
          "metadata": {
            "tags": [],
            "needs_background": "light"
          }
        }
      ]
    },
    {
      "cell_type": "markdown",
      "metadata": {
        "id": "lBxg4bMPZ5qq",
        "colab_type": "text"
      },
      "source": [
        "## 13. Save the numpy ndarray object into a npy file"
      ]
    },
    {
      "cell_type": "markdown",
      "metadata": {
        "id": "OQKY666fZ5qq",
        "colab_type": "text"
      },
      "source": [
        "Finally, one of the most important parts of the entire analysis process, the storage of the results. We can do this with the `np.savetxt()` function:"
      ]
    },
    {
      "cell_type": "code",
      "metadata": {
        "id": "s9rIm7OUZ5qr",
        "colab_type": "code",
        "colab": {}
      },
      "source": [
        "import numpy as np\n",
        "x = np.arange(0.0,5.0,1.0)\n",
        "np.savetxt('test.txt', x, delimiter=',')"
      ],
      "execution_count": null,
      "outputs": []
    },
    {
      "cell_type": "markdown",
      "metadata": {
        "id": "tCG42iNBZ5qt",
        "colab_type": "text"
      },
      "source": [
        "## Conclusions"
      ]
    },
    {
      "cell_type": "markdown",
      "metadata": {
        "id": "oXHCZZeJZ5qt",
        "colab_type": "text"
      },
      "source": [
        "We have learned the fundamentals of the `numpy` library for scientific computing, which allows us to create multidimensional arrays and operate them using arithmetic, logical, and relational operators. We have also learned how to restructure arrangements in various ways, as well as the basic tools for visualization. \n",
        "\n",
        "In the next case study, we will see what is related to the `pandas` library, so we are ready to do data analysis dynamically and efficiently!"
      ]
    }
  ]
}