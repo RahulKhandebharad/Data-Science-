{
  "nbformat": 4,
  "nbformat_minor": 0,
  "metadata": {
    "kernelspec": {
      "display_name": "Python 3",
      "language": "python",
      "name": "python3"
    },
    "language_info": {
      "codemirror_mode": {
        "name": "ipython",
        "version": 3
      },
      "file_extension": ".py",
      "mimetype": "text/x-python",
      "name": "python",
      "nbconvert_exporter": "python",
      "pygments_lexer": "ipython3",
      "version": "3.7.6"
    },
    "colab": {
      "name": "W4.1.1-Basic_Logistic_Model.ipynb",
      "provenance": [],
      "include_colab_link": true
    }
  },
  "cells": [
    {
      "cell_type": "markdown",
      "metadata": {
        "id": "view-in-github",
        "colab_type": "text"
      },
      "source": [
        "<a href=\"https://colab.research.google.com/github/RahulKhandebharad/Data-Science-/blob/master/W4_1_1_Basic_Logistic_Model.ipynb\" target=\"_parent\"><img src=\"https://colab.research.google.com/assets/colab-badge.svg\" alt=\"Open In Colab\"/></a>"
      ]
    },
    {
      "cell_type": "code",
      "metadata": {
        "id": "1ppo6X3-W2zV",
        "colab_type": "code",
        "colab": {}
      },
      "source": [
        "import pandas as pd\n",
        "import numpy as np\n",
        "from sklearn.model_selection import train_test_split\n",
        "from sklearn.linear_model import LogisticRegression\n",
        "from sklearn.preprocessing import LabelEncoder\n",
        "import warnings\n",
        "warnings.filterwarnings(\"ignore\")"
      ],
      "execution_count": null,
      "outputs": []
    },
    {
      "cell_type": "code",
      "metadata": {
        "id": "Jhsu1wYdW2z1",
        "colab_type": "code",
        "colab": {}
      },
      "source": [
        "liver_data = pd.read_csv('https://raw.githubusercontent.com/dphi-official/Datasets/master/liver_patient_data/indian_liver_patient_dataset.csv')"
      ],
      "execution_count": null,
      "outputs": []
    },
    {
      "cell_type": "code",
      "metadata": {
        "id": "VsB471TKW20I",
        "colab_type": "code",
        "colab": {},
        "outputId": "9ad08cba-f64e-41dd-cc88-e7920c06da2e"
      },
      "source": [
        "liver_data.info()"
      ],
      "execution_count": null,
      "outputs": [
        {
          "output_type": "stream",
          "text": [
            "<class 'pandas.core.frame.DataFrame'>\n",
            "RangeIndex: 500 entries, 0 to 499\n",
            "Data columns (total 11 columns):\n",
            " #   Column                      Non-Null Count  Dtype  \n",
            "---  ------                      --------------  -----  \n",
            " 0   Age                         500 non-null    int64  \n",
            " 1   Gender                      500 non-null    object \n",
            " 2   Total_Bilirubin             500 non-null    float64\n",
            " 3   Direct_Bilirubin            500 non-null    float64\n",
            " 4   Alkaline_Phosphotase        500 non-null    int64  \n",
            " 5   Alamine_Aminotransferase    500 non-null    int64  \n",
            " 6   Aspartate_Aminotransferase  500 non-null    int64  \n",
            " 7   Total_Protiens              500 non-null    float64\n",
            " 8   Albumin                     500 non-null    float64\n",
            " 9   Albumin_and_Globulin_Ratio  496 non-null    float64\n",
            " 10  Liver_Problem               500 non-null    int64  \n",
            "dtypes: float64(5), int64(5), object(1)\n",
            "memory usage: 43.1+ KB\n"
          ],
          "name": "stdout"
        }
      ]
    },
    {
      "cell_type": "code",
      "metadata": {
        "scrolled": false,
        "id": "lR6w5mv4W20i",
        "colab_type": "code",
        "colab": {},
        "outputId": "ad5e0d93-4402-4a66-f942-70e05d62eacc"
      },
      "source": [
        "liver_data.shape"
      ],
      "execution_count": null,
      "outputs": [
        {
          "output_type": "execute_result",
          "data": {
            "text/plain": [
              "(500, 11)"
            ]
          },
          "metadata": {
            "tags": []
          },
          "execution_count": 5
        }
      ]
    },
    {
      "cell_type": "code",
      "metadata": {
        "scrolled": true,
        "id": "_0f5YxBKW203",
        "colab_type": "code",
        "colab": {},
        "outputId": "ab2a1634-ebc5-47bd-b2f2-35ea086c9434"
      },
      "source": [
        "liver_data.head()"
      ],
      "execution_count": null,
      "outputs": [
        {
          "output_type": "execute_result",
          "data": {
            "text/html": [
              "<div>\n",
              "<style scoped>\n",
              "    .dataframe tbody tr th:only-of-type {\n",
              "        vertical-align: middle;\n",
              "    }\n",
              "\n",
              "    .dataframe tbody tr th {\n",
              "        vertical-align: top;\n",
              "    }\n",
              "\n",
              "    .dataframe thead th {\n",
              "        text-align: right;\n",
              "    }\n",
              "</style>\n",
              "<table border=\"1\" class=\"dataframe\">\n",
              "  <thead>\n",
              "    <tr style=\"text-align: right;\">\n",
              "      <th></th>\n",
              "      <th>Age</th>\n",
              "      <th>Gender</th>\n",
              "      <th>Total_Bilirubin</th>\n",
              "      <th>Direct_Bilirubin</th>\n",
              "      <th>Alkaline_Phosphotase</th>\n",
              "      <th>Alamine_Aminotransferase</th>\n",
              "      <th>Aspartate_Aminotransferase</th>\n",
              "      <th>Total_Protiens</th>\n",
              "      <th>Albumin</th>\n",
              "      <th>Albumin_and_Globulin_Ratio</th>\n",
              "      <th>Liver_Problem</th>\n",
              "    </tr>\n",
              "  </thead>\n",
              "  <tbody>\n",
              "    <tr>\n",
              "      <th>0</th>\n",
              "      <td>65</td>\n",
              "      <td>Female</td>\n",
              "      <td>0.7</td>\n",
              "      <td>0.1</td>\n",
              "      <td>187</td>\n",
              "      <td>16</td>\n",
              "      <td>18</td>\n",
              "      <td>6.8</td>\n",
              "      <td>3.3</td>\n",
              "      <td>0.90</td>\n",
              "      <td>1</td>\n",
              "    </tr>\n",
              "    <tr>\n",
              "      <th>1</th>\n",
              "      <td>62</td>\n",
              "      <td>Male</td>\n",
              "      <td>10.9</td>\n",
              "      <td>5.5</td>\n",
              "      <td>699</td>\n",
              "      <td>64</td>\n",
              "      <td>100</td>\n",
              "      <td>7.5</td>\n",
              "      <td>3.2</td>\n",
              "      <td>0.74</td>\n",
              "      <td>1</td>\n",
              "    </tr>\n",
              "    <tr>\n",
              "      <th>2</th>\n",
              "      <td>62</td>\n",
              "      <td>Male</td>\n",
              "      <td>7.3</td>\n",
              "      <td>4.1</td>\n",
              "      <td>490</td>\n",
              "      <td>60</td>\n",
              "      <td>68</td>\n",
              "      <td>7.0</td>\n",
              "      <td>3.3</td>\n",
              "      <td>0.89</td>\n",
              "      <td>1</td>\n",
              "    </tr>\n",
              "    <tr>\n",
              "      <th>3</th>\n",
              "      <td>58</td>\n",
              "      <td>Male</td>\n",
              "      <td>1.0</td>\n",
              "      <td>0.4</td>\n",
              "      <td>182</td>\n",
              "      <td>14</td>\n",
              "      <td>20</td>\n",
              "      <td>6.8</td>\n",
              "      <td>3.4</td>\n",
              "      <td>1.00</td>\n",
              "      <td>1</td>\n",
              "    </tr>\n",
              "    <tr>\n",
              "      <th>4</th>\n",
              "      <td>72</td>\n",
              "      <td>Male</td>\n",
              "      <td>3.9</td>\n",
              "      <td>2.0</td>\n",
              "      <td>195</td>\n",
              "      <td>27</td>\n",
              "      <td>59</td>\n",
              "      <td>7.3</td>\n",
              "      <td>2.4</td>\n",
              "      <td>0.40</td>\n",
              "      <td>1</td>\n",
              "    </tr>\n",
              "  </tbody>\n",
              "</table>\n",
              "</div>"
            ],
            "text/plain": [
              "   Age  Gender  Total_Bilirubin  Direct_Bilirubin  Alkaline_Phosphotase  \\\n",
              "0   65  Female              0.7               0.1                   187   \n",
              "1   62    Male             10.9               5.5                   699   \n",
              "2   62    Male              7.3               4.1                   490   \n",
              "3   58    Male              1.0               0.4                   182   \n",
              "4   72    Male              3.9               2.0                   195   \n",
              "\n",
              "   Alamine_Aminotransferase  Aspartate_Aminotransferase  Total_Protiens  \\\n",
              "0                        16                          18             6.8   \n",
              "1                        64                         100             7.5   \n",
              "2                        60                          68             7.0   \n",
              "3                        14                          20             6.8   \n",
              "4                        27                          59             7.3   \n",
              "\n",
              "   Albumin  Albumin_and_Globulin_Ratio  Liver_Problem  \n",
              "0      3.3                        0.90              1  \n",
              "1      3.2                        0.74              1  \n",
              "2      3.3                        0.89              1  \n",
              "3      3.4                        1.00              1  \n",
              "4      2.4                        0.40              1  "
            ]
          },
          "metadata": {
            "tags": []
          },
          "execution_count": 6
        }
      ]
    },
    {
      "cell_type": "code",
      "metadata": {
        "id": "MOtaNDtXW21J",
        "colab_type": "code",
        "colab": {},
        "outputId": "8d665877-7fe4-4905-8390-67e7ee1e8c11"
      },
      "source": [
        "liver_data['Liver_Problem'].value_counts()"
      ],
      "execution_count": null,
      "outputs": [
        {
          "output_type": "execute_result",
          "data": {
            "text/plain": [
              "1    350\n",
              "2    150\n",
              "Name: Liver_Problem, dtype: int64"
            ]
          },
          "metadata": {
            "tags": []
          },
          "execution_count": 7
        }
      ]
    },
    {
      "cell_type": "code",
      "metadata": {
        "id": "RuOqiHoxW21a",
        "colab_type": "code",
        "colab": {},
        "outputId": "fe8271ab-e27c-4d41-8251-f2a28eba2d79"
      },
      "source": [
        "liver_data[liver_data['Albumin_and_Globulin_Ratio'].isnull()]"
      ],
      "execution_count": null,
      "outputs": [
        {
          "output_type": "execute_result",
          "data": {
            "text/html": [
              "<div>\n",
              "<style scoped>\n",
              "    .dataframe tbody tr th:only-of-type {\n",
              "        vertical-align: middle;\n",
              "    }\n",
              "\n",
              "    .dataframe tbody tr th {\n",
              "        vertical-align: top;\n",
              "    }\n",
              "\n",
              "    .dataframe thead th {\n",
              "        text-align: right;\n",
              "    }\n",
              "</style>\n",
              "<table border=\"1\" class=\"dataframe\">\n",
              "  <thead>\n",
              "    <tr style=\"text-align: right;\">\n",
              "      <th></th>\n",
              "      <th>Age</th>\n",
              "      <th>Gender</th>\n",
              "      <th>Total_Bilirubin</th>\n",
              "      <th>Direct_Bilirubin</th>\n",
              "      <th>Alkaline_Phosphotase</th>\n",
              "      <th>Alamine_Aminotransferase</th>\n",
              "      <th>Aspartate_Aminotransferase</th>\n",
              "      <th>Total_Protiens</th>\n",
              "      <th>Albumin</th>\n",
              "      <th>Albumin_and_Globulin_Ratio</th>\n",
              "      <th>Liver_Problem</th>\n",
              "    </tr>\n",
              "  </thead>\n",
              "  <tbody>\n",
              "    <tr>\n",
              "      <th>209</th>\n",
              "      <td>45</td>\n",
              "      <td>Female</td>\n",
              "      <td>0.9</td>\n",
              "      <td>0.3</td>\n",
              "      <td>189</td>\n",
              "      <td>23</td>\n",
              "      <td>33</td>\n",
              "      <td>6.6</td>\n",
              "      <td>3.9</td>\n",
              "      <td>NaN</td>\n",
              "      <td>1</td>\n",
              "    </tr>\n",
              "    <tr>\n",
              "      <th>241</th>\n",
              "      <td>51</td>\n",
              "      <td>Male</td>\n",
              "      <td>0.8</td>\n",
              "      <td>0.2</td>\n",
              "      <td>230</td>\n",
              "      <td>24</td>\n",
              "      <td>46</td>\n",
              "      <td>6.5</td>\n",
              "      <td>3.1</td>\n",
              "      <td>NaN</td>\n",
              "      <td>1</td>\n",
              "    </tr>\n",
              "    <tr>\n",
              "      <th>253</th>\n",
              "      <td>35</td>\n",
              "      <td>Female</td>\n",
              "      <td>0.6</td>\n",
              "      <td>0.2</td>\n",
              "      <td>180</td>\n",
              "      <td>12</td>\n",
              "      <td>15</td>\n",
              "      <td>5.2</td>\n",
              "      <td>2.7</td>\n",
              "      <td>NaN</td>\n",
              "      <td>2</td>\n",
              "    </tr>\n",
              "    <tr>\n",
              "      <th>312</th>\n",
              "      <td>27</td>\n",
              "      <td>Male</td>\n",
              "      <td>1.3</td>\n",
              "      <td>0.6</td>\n",
              "      <td>106</td>\n",
              "      <td>25</td>\n",
              "      <td>54</td>\n",
              "      <td>8.5</td>\n",
              "      <td>4.8</td>\n",
              "      <td>NaN</td>\n",
              "      <td>2</td>\n",
              "    </tr>\n",
              "  </tbody>\n",
              "</table>\n",
              "</div>"
            ],
            "text/plain": [
              "     Age  Gender  Total_Bilirubin  Direct_Bilirubin  Alkaline_Phosphotase  \\\n",
              "209   45  Female              0.9               0.3                   189   \n",
              "241   51    Male              0.8               0.2                   230   \n",
              "253   35  Female              0.6               0.2                   180   \n",
              "312   27    Male              1.3               0.6                   106   \n",
              "\n",
              "     Alamine_Aminotransferase  Aspartate_Aminotransferase  Total_Protiens  \\\n",
              "209                        23                          33             6.6   \n",
              "241                        24                          46             6.5   \n",
              "253                        12                          15             5.2   \n",
              "312                        25                          54             8.5   \n",
              "\n",
              "     Albumin  Albumin_and_Globulin_Ratio  Liver_Problem  \n",
              "209      3.9                         NaN              1  \n",
              "241      3.1                         NaN              1  \n",
              "253      2.7                         NaN              2  \n",
              "312      4.8                         NaN              2  "
            ]
          },
          "metadata": {
            "tags": []
          },
          "execution_count": 8
        }
      ]
    },
    {
      "cell_type": "code",
      "metadata": {
        "id": "Pyrsu7tcW21x",
        "colab_type": "code",
        "colab": {}
      },
      "source": [
        "liver_data.Albumin_and_Globulin_Ratio.fillna(liver_data['Albumin_and_Globulin_Ratio'].mean(), inplace=True)"
      ],
      "execution_count": null,
      "outputs": []
    },
    {
      "cell_type": "code",
      "metadata": {
        "scrolled": false,
        "id": "_ORSvRHtW22E",
        "colab_type": "code",
        "colab": {},
        "outputId": "add50897-2d5c-40b3-b9f6-dcf27bf4bf30"
      },
      "source": [
        "le = LabelEncoder()\n",
        "liver_data.Gender = le.fit_transform(liver_data.Gender)\n",
        "liver_data.head()"
      ],
      "execution_count": null,
      "outputs": [
        {
          "output_type": "execute_result",
          "data": {
            "text/html": [
              "<div>\n",
              "<style scoped>\n",
              "    .dataframe tbody tr th:only-of-type {\n",
              "        vertical-align: middle;\n",
              "    }\n",
              "\n",
              "    .dataframe tbody tr th {\n",
              "        vertical-align: top;\n",
              "    }\n",
              "\n",
              "    .dataframe thead th {\n",
              "        text-align: right;\n",
              "    }\n",
              "</style>\n",
              "<table border=\"1\" class=\"dataframe\">\n",
              "  <thead>\n",
              "    <tr style=\"text-align: right;\">\n",
              "      <th></th>\n",
              "      <th>Age</th>\n",
              "      <th>Gender</th>\n",
              "      <th>Total_Bilirubin</th>\n",
              "      <th>Direct_Bilirubin</th>\n",
              "      <th>Alkaline_Phosphotase</th>\n",
              "      <th>Alamine_Aminotransferase</th>\n",
              "      <th>Aspartate_Aminotransferase</th>\n",
              "      <th>Total_Protiens</th>\n",
              "      <th>Albumin</th>\n",
              "      <th>Albumin_and_Globulin_Ratio</th>\n",
              "      <th>Liver_Problem</th>\n",
              "    </tr>\n",
              "  </thead>\n",
              "  <tbody>\n",
              "    <tr>\n",
              "      <th>0</th>\n",
              "      <td>65</td>\n",
              "      <td>0</td>\n",
              "      <td>0.7</td>\n",
              "      <td>0.1</td>\n",
              "      <td>187</td>\n",
              "      <td>16</td>\n",
              "      <td>18</td>\n",
              "      <td>6.8</td>\n",
              "      <td>3.3</td>\n",
              "      <td>0.90</td>\n",
              "      <td>1</td>\n",
              "    </tr>\n",
              "    <tr>\n",
              "      <th>1</th>\n",
              "      <td>62</td>\n",
              "      <td>1</td>\n",
              "      <td>10.9</td>\n",
              "      <td>5.5</td>\n",
              "      <td>699</td>\n",
              "      <td>64</td>\n",
              "      <td>100</td>\n",
              "      <td>7.5</td>\n",
              "      <td>3.2</td>\n",
              "      <td>0.74</td>\n",
              "      <td>1</td>\n",
              "    </tr>\n",
              "    <tr>\n",
              "      <th>2</th>\n",
              "      <td>62</td>\n",
              "      <td>1</td>\n",
              "      <td>7.3</td>\n",
              "      <td>4.1</td>\n",
              "      <td>490</td>\n",
              "      <td>60</td>\n",
              "      <td>68</td>\n",
              "      <td>7.0</td>\n",
              "      <td>3.3</td>\n",
              "      <td>0.89</td>\n",
              "      <td>1</td>\n",
              "    </tr>\n",
              "    <tr>\n",
              "      <th>3</th>\n",
              "      <td>58</td>\n",
              "      <td>1</td>\n",
              "      <td>1.0</td>\n",
              "      <td>0.4</td>\n",
              "      <td>182</td>\n",
              "      <td>14</td>\n",
              "      <td>20</td>\n",
              "      <td>6.8</td>\n",
              "      <td>3.4</td>\n",
              "      <td>1.00</td>\n",
              "      <td>1</td>\n",
              "    </tr>\n",
              "    <tr>\n",
              "      <th>4</th>\n",
              "      <td>72</td>\n",
              "      <td>1</td>\n",
              "      <td>3.9</td>\n",
              "      <td>2.0</td>\n",
              "      <td>195</td>\n",
              "      <td>27</td>\n",
              "      <td>59</td>\n",
              "      <td>7.3</td>\n",
              "      <td>2.4</td>\n",
              "      <td>0.40</td>\n",
              "      <td>1</td>\n",
              "    </tr>\n",
              "  </tbody>\n",
              "</table>\n",
              "</div>"
            ],
            "text/plain": [
              "   Age  Gender  Total_Bilirubin  Direct_Bilirubin  Alkaline_Phosphotase  \\\n",
              "0   65       0              0.7               0.1                   187   \n",
              "1   62       1             10.9               5.5                   699   \n",
              "2   62       1              7.3               4.1                   490   \n",
              "3   58       1              1.0               0.4                   182   \n",
              "4   72       1              3.9               2.0                   195   \n",
              "\n",
              "   Alamine_Aminotransferase  Aspartate_Aminotransferase  Total_Protiens  \\\n",
              "0                        16                          18             6.8   \n",
              "1                        64                         100             7.5   \n",
              "2                        60                          68             7.0   \n",
              "3                        14                          20             6.8   \n",
              "4                        27                          59             7.3   \n",
              "\n",
              "   Albumin  Albumin_and_Globulin_Ratio  Liver_Problem  \n",
              "0      3.3                        0.90              1  \n",
              "1      3.2                        0.74              1  \n",
              "2      3.3                        0.89              1  \n",
              "3      3.4                        1.00              1  \n",
              "4      2.4                        0.40              1  "
            ]
          },
          "metadata": {
            "tags": []
          },
          "execution_count": 10
        }
      ]
    },
    {
      "cell_type": "markdown",
      "metadata": {
        "id": "hFEse-pvW22U",
        "colab_type": "text"
      },
      "source": [
        "# Explanation about Train and Test Data and its splitting"
      ]
    },
    {
      "cell_type": "markdown",
      "metadata": {
        "id": "zgWzvGtKW22X",
        "colab_type": "text"
      },
      "source": [
        "Often people as this question:\n",
        "\n",
        "What the point is to do 'X_train, X_test' etc.?\n",
        "\n",
        "My answer:\n",
        "\n",
        "Splitting the data into train and test data is a standard practice in data science. This I believe we know by now.\n",
        "\n",
        "Now why separate input features and target variable?\n",
        "\n",
        "For that, I would say it is more of constraint or standard practice in python. If I were to code in R programming there is no need to separate input and target variables, instead, I just separate the dataset into train and test dataset. \n",
        "\n",
        "Please consider this as something that you should remember like a rule. \n",
        "\n",
        "In python, you do it as follows as a defacto for splitting your dataset into train and test.\n",
        "\n",
        "1. You split the dataset into input features (X) and target variable ( y )\n",
        "2. Further these X and y are divide into train (X_train, y_train) and test (y_train, y_test).\n",
        "\n",
        "Technically you are just splitting your dataset into train and test only.\n",
        "\n",
        "![My Title](https://dphi.tech/wp-content/uploads/2020/06/IMG_20200620_194107-768x1024.jpg)"
      ]
    },
    {
      "cell_type": "markdown",
      "metadata": {
        "id": "APgY0DbDW22a",
        "colab_type": "text"
      },
      "source": [
        "## The above image can be read as below as well. Just pick the best of the two whichever you are comfortable to comphrehend the process"
      ]
    },
    {
      "cell_type": "markdown",
      "metadata": {
        "id": "BN-GeXoSW22c",
        "colab_type": "text"
      },
      "source": [
        "![My Title](https://dphi.tech/wp-content/uploads/2020/06/image-2-1024x552.png)"
      ]
    },
    {
      "cell_type": "markdown",
      "metadata": {
        "id": "nkeCAjweW22j",
        "colab_type": "text"
      },
      "source": [
        "![My Title](https://dphi.tech/wp-content/uploads/2020/06/image.png)"
      ]
    },
    {
      "cell_type": "markdown",
      "metadata": {
        "id": "1FuyppePW22q",
        "colab_type": "text"
      },
      "source": [
        "## Separating input and target variables\n",
        "\n",
        "y has the label or the target variable \"Liver_Problem\" - basically this is what we need to predict. \n",
        "\n",
        "X has input variables which are used to predict y. Basically X has all the columns of our data excluding target variable \"Liver_Problem\""
      ]
    },
    {
      "cell_type": "code",
      "metadata": {
        "id": "ohFJYvxWW22t",
        "colab_type": "code",
        "colab": {}
      },
      "source": [
        "X = liver_data.drop('Liver_Problem', axis = 1) \n",
        "\n",
        "\n",
        "y = liver_data['Liver_Problem']"
      ],
      "execution_count": null,
      "outputs": []
    },
    {
      "cell_type": "markdown",
      "metadata": {
        "id": "uxdTNyAPW23H",
        "colab_type": "text"
      },
      "source": [
        "![My Title](https://dphi.tech/wp-content/uploads/2020/06/image-1-1024x608.png)"
      ]
    },
    {
      "cell_type": "markdown",
      "metadata": {
        "id": "qrjcrspgW23L",
        "colab_type": "text"
      },
      "source": [
        "# Splitting Data into Train and Test"
      ]
    },
    {
      "cell_type": "code",
      "metadata": {
        "id": "e_2XmQjzW23P",
        "colab_type": "code",
        "colab": {}
      },
      "source": [
        "X_train, X_test, y_train, y_test = train_test_split(X, y, test_size = 0.2, random_state = 101)"
      ],
      "execution_count": null,
      "outputs": []
    },
    {
      "cell_type": "markdown",
      "metadata": {
        "id": "_vfR9ijwW23j",
        "colab_type": "text"
      },
      "source": [
        "# Building Logistic Regression"
      ]
    },
    {
      "cell_type": "code",
      "metadata": {
        "id": "zSaFDMeiW23n",
        "colab_type": "code",
        "colab": {}
      },
      "source": [
        "model = LogisticRegression()"
      ],
      "execution_count": null,
      "outputs": []
    },
    {
      "cell_type": "code",
      "metadata": {
        "id": "Hi4onAnOW231",
        "colab_type": "code",
        "colab": {},
        "outputId": "bfbcce94-b3ee-423c-fcaa-aeb3b44a815d"
      },
      "source": [
        "model.fit(X_train, y_train)"
      ],
      "execution_count": null,
      "outputs": [
        {
          "output_type": "execute_result",
          "data": {
            "text/plain": [
              "LogisticRegression(C=1.0, class_weight=None, dual=False, fit_intercept=True,\n",
              "                   intercept_scaling=1, l1_ratio=None, max_iter=100,\n",
              "                   multi_class='auto', n_jobs=None, penalty='l2',\n",
              "                   random_state=None, solver='lbfgs', tol=0.0001, verbose=0,\n",
              "                   warm_start=False)"
            ]
          },
          "metadata": {
            "tags": []
          },
          "execution_count": 15
        }
      ]
    },
    {
      "cell_type": "code",
      "metadata": {
        "id": "3ROnCdctW24C",
        "colab_type": "code",
        "colab": {}
      },
      "source": [
        "pred = model.predict(X_test)"
      ],
      "execution_count": null,
      "outputs": []
    },
    {
      "cell_type": "code",
      "metadata": {
        "id": "fzETdZKJW24R",
        "colab_type": "code",
        "colab": {},
        "outputId": "c6beac43-f4a9-44a6-b5b7-c1693372beeb"
      },
      "source": [
        "from sklearn.metrics import confusion_matrix\n",
        "tn, fp, fn, tp = confusion_matrix(y_test, pred).ravel()\n",
        "print(\"True Positive\", tp)\n",
        "print(\"True Negative\", tn)\n",
        "print(\"False Positive\", fp)\n",
        "print(\"False Negative\", fn)"
      ],
      "execution_count": null,
      "outputs": [
        {
          "output_type": "stream",
          "text": [
            "True Positive 5\n",
            "True Negative 60\n",
            "False Positive 6\n",
            "False Negative 29\n"
          ],
          "name": "stdout"
        }
      ]
    },
    {
      "cell_type": "code",
      "metadata": {
        "id": "_UO4SdDiW24h",
        "colab_type": "code",
        "colab": {},
        "outputId": "6368123c-87c0-44b8-c911-ffe2eaf75b67"
      },
      "source": [
        "from sklearn.metrics import accuracy_score\n",
        "accuracy_score(y_test, pred)"
      ],
      "execution_count": null,
      "outputs": [
        {
          "output_type": "execute_result",
          "data": {
            "text/plain": [
              "0.65"
            ]
          },
          "metadata": {
            "tags": []
          },
          "execution_count": 18
        }
      ]
    },
    {
      "cell_type": "code",
      "metadata": {
        "id": "WsMJuJEBW240",
        "colab_type": "code",
        "colab": {}
      },
      "source": [
        "test_new = pd.read_csv('https://raw.githubusercontent.com/dphi-official/Datasets/master/liver_patient_data/indian_liver_patient_new_testdataset.csv')"
      ],
      "execution_count": null,
      "outputs": []
    },
    {
      "cell_type": "code",
      "metadata": {
        "id": "h3m9eUHtW25F",
        "colab_type": "code",
        "colab": {},
        "outputId": "a85aece5-a7ce-4b33-8bce-0ed074ef63a3"
      },
      "source": [
        "test_new.head()"
      ],
      "execution_count": null,
      "outputs": [
        {
          "output_type": "execute_result",
          "data": {
            "text/html": [
              "<div>\n",
              "<style scoped>\n",
              "    .dataframe tbody tr th:only-of-type {\n",
              "        vertical-align: middle;\n",
              "    }\n",
              "\n",
              "    .dataframe tbody tr th {\n",
              "        vertical-align: top;\n",
              "    }\n",
              "\n",
              "    .dataframe thead th {\n",
              "        text-align: right;\n",
              "    }\n",
              "</style>\n",
              "<table border=\"1\" class=\"dataframe\">\n",
              "  <thead>\n",
              "    <tr style=\"text-align: right;\">\n",
              "      <th></th>\n",
              "      <th>Age</th>\n",
              "      <th>Gender</th>\n",
              "      <th>Total_Bilirubin</th>\n",
              "      <th>Direct_Bilirubin</th>\n",
              "      <th>Alkaline_Phosphotase</th>\n",
              "      <th>Alamine_Aminotransferase</th>\n",
              "      <th>Aspartate_Aminotransferase</th>\n",
              "      <th>Total_Protiens</th>\n",
              "      <th>Albumin</th>\n",
              "      <th>Albumin_and_Globulin_Ratio</th>\n",
              "    </tr>\n",
              "  </thead>\n",
              "  <tbody>\n",
              "    <tr>\n",
              "      <th>0</th>\n",
              "      <td>36</td>\n",
              "      <td>Male</td>\n",
              "      <td>2.8</td>\n",
              "      <td>1.5</td>\n",
              "      <td>305</td>\n",
              "      <td>28</td>\n",
              "      <td>76</td>\n",
              "      <td>5.9</td>\n",
              "      <td>2.5</td>\n",
              "      <td>0.7</td>\n",
              "    </tr>\n",
              "    <tr>\n",
              "      <th>1</th>\n",
              "      <td>42</td>\n",
              "      <td>Male</td>\n",
              "      <td>0.8</td>\n",
              "      <td>0.2</td>\n",
              "      <td>127</td>\n",
              "      <td>29</td>\n",
              "      <td>30</td>\n",
              "      <td>4.9</td>\n",
              "      <td>2.7</td>\n",
              "      <td>1.2</td>\n",
              "    </tr>\n",
              "    <tr>\n",
              "      <th>2</th>\n",
              "      <td>53</td>\n",
              "      <td>Male</td>\n",
              "      <td>19.8</td>\n",
              "      <td>10.4</td>\n",
              "      <td>238</td>\n",
              "      <td>39</td>\n",
              "      <td>221</td>\n",
              "      <td>8.1</td>\n",
              "      <td>2.5</td>\n",
              "      <td>0.4</td>\n",
              "    </tr>\n",
              "    <tr>\n",
              "      <th>3</th>\n",
              "      <td>32</td>\n",
              "      <td>Male</td>\n",
              "      <td>30.5</td>\n",
              "      <td>17.1</td>\n",
              "      <td>218</td>\n",
              "      <td>39</td>\n",
              "      <td>79</td>\n",
              "      <td>5.5</td>\n",
              "      <td>2.7</td>\n",
              "      <td>0.9</td>\n",
              "    </tr>\n",
              "    <tr>\n",
              "      <th>4</th>\n",
              "      <td>32</td>\n",
              "      <td>Male</td>\n",
              "      <td>32.6</td>\n",
              "      <td>14.1</td>\n",
              "      <td>219</td>\n",
              "      <td>95</td>\n",
              "      <td>235</td>\n",
              "      <td>5.8</td>\n",
              "      <td>3.1</td>\n",
              "      <td>1.1</td>\n",
              "    </tr>\n",
              "  </tbody>\n",
              "</table>\n",
              "</div>"
            ],
            "text/plain": [
              "   Age Gender  Total_Bilirubin  Direct_Bilirubin  Alkaline_Phosphotase  \\\n",
              "0   36   Male              2.8               1.5                   305   \n",
              "1   42   Male              0.8               0.2                   127   \n",
              "2   53   Male             19.8              10.4                   238   \n",
              "3   32   Male             30.5              17.1                   218   \n",
              "4   32   Male             32.6              14.1                   219   \n",
              "\n",
              "   Alamine_Aminotransferase  Aspartate_Aminotransferase  Total_Protiens  \\\n",
              "0                        28                          76             5.9   \n",
              "1                        29                          30             4.9   \n",
              "2                        39                         221             8.1   \n",
              "3                        39                          79             5.5   \n",
              "4                        95                         235             5.8   \n",
              "\n",
              "   Albumin  Albumin_and_Globulin_Ratio  \n",
              "0      2.5                         0.7  \n",
              "1      2.7                         1.2  \n",
              "2      2.5                         0.4  \n",
              "3      2.7                         0.9  \n",
              "4      3.1                         1.1  "
            ]
          },
          "metadata": {
            "tags": []
          },
          "execution_count": 25
        }
      ]
    },
    {
      "cell_type": "code",
      "metadata": {
        "id": "KDRDU9N2W25c",
        "colab_type": "code",
        "colab": {},
        "outputId": "e581a319-0685-4b1b-8b13-4d9fa2b17243"
      },
      "source": [
        "le = LabelEncoder()\n",
        "test_new.Gender = le.fit_transform(test_new.Gender)\n",
        "test_new.head()"
      ],
      "execution_count": null,
      "outputs": [
        {
          "output_type": "execute_result",
          "data": {
            "text/html": [
              "<div>\n",
              "<style scoped>\n",
              "    .dataframe tbody tr th:only-of-type {\n",
              "        vertical-align: middle;\n",
              "    }\n",
              "\n",
              "    .dataframe tbody tr th {\n",
              "        vertical-align: top;\n",
              "    }\n",
              "\n",
              "    .dataframe thead th {\n",
              "        text-align: right;\n",
              "    }\n",
              "</style>\n",
              "<table border=\"1\" class=\"dataframe\">\n",
              "  <thead>\n",
              "    <tr style=\"text-align: right;\">\n",
              "      <th></th>\n",
              "      <th>Age</th>\n",
              "      <th>Gender</th>\n",
              "      <th>Total_Bilirubin</th>\n",
              "      <th>Direct_Bilirubin</th>\n",
              "      <th>Alkaline_Phosphotase</th>\n",
              "      <th>Alamine_Aminotransferase</th>\n",
              "      <th>Aspartate_Aminotransferase</th>\n",
              "      <th>Total_Protiens</th>\n",
              "      <th>Albumin</th>\n",
              "      <th>Albumin_and_Globulin_Ratio</th>\n",
              "    </tr>\n",
              "  </thead>\n",
              "  <tbody>\n",
              "    <tr>\n",
              "      <th>0</th>\n",
              "      <td>36</td>\n",
              "      <td>1</td>\n",
              "      <td>2.8</td>\n",
              "      <td>1.5</td>\n",
              "      <td>305</td>\n",
              "      <td>28</td>\n",
              "      <td>76</td>\n",
              "      <td>5.9</td>\n",
              "      <td>2.5</td>\n",
              "      <td>0.7</td>\n",
              "    </tr>\n",
              "    <tr>\n",
              "      <th>1</th>\n",
              "      <td>42</td>\n",
              "      <td>1</td>\n",
              "      <td>0.8</td>\n",
              "      <td>0.2</td>\n",
              "      <td>127</td>\n",
              "      <td>29</td>\n",
              "      <td>30</td>\n",
              "      <td>4.9</td>\n",
              "      <td>2.7</td>\n",
              "      <td>1.2</td>\n",
              "    </tr>\n",
              "    <tr>\n",
              "      <th>2</th>\n",
              "      <td>53</td>\n",
              "      <td>1</td>\n",
              "      <td>19.8</td>\n",
              "      <td>10.4</td>\n",
              "      <td>238</td>\n",
              "      <td>39</td>\n",
              "      <td>221</td>\n",
              "      <td>8.1</td>\n",
              "      <td>2.5</td>\n",
              "      <td>0.4</td>\n",
              "    </tr>\n",
              "    <tr>\n",
              "      <th>3</th>\n",
              "      <td>32</td>\n",
              "      <td>1</td>\n",
              "      <td>30.5</td>\n",
              "      <td>17.1</td>\n",
              "      <td>218</td>\n",
              "      <td>39</td>\n",
              "      <td>79</td>\n",
              "      <td>5.5</td>\n",
              "      <td>2.7</td>\n",
              "      <td>0.9</td>\n",
              "    </tr>\n",
              "    <tr>\n",
              "      <th>4</th>\n",
              "      <td>32</td>\n",
              "      <td>1</td>\n",
              "      <td>32.6</td>\n",
              "      <td>14.1</td>\n",
              "      <td>219</td>\n",
              "      <td>95</td>\n",
              "      <td>235</td>\n",
              "      <td>5.8</td>\n",
              "      <td>3.1</td>\n",
              "      <td>1.1</td>\n",
              "    </tr>\n",
              "  </tbody>\n",
              "</table>\n",
              "</div>"
            ],
            "text/plain": [
              "   Age  Gender  Total_Bilirubin  Direct_Bilirubin  Alkaline_Phosphotase  \\\n",
              "0   36       1              2.8               1.5                   305   \n",
              "1   42       1              0.8               0.2                   127   \n",
              "2   53       1             19.8              10.4                   238   \n",
              "3   32       1             30.5              17.1                   218   \n",
              "4   32       1             32.6              14.1                   219   \n",
              "\n",
              "   Alamine_Aminotransferase  Aspartate_Aminotransferase  Total_Protiens  \\\n",
              "0                        28                          76             5.9   \n",
              "1                        29                          30             4.9   \n",
              "2                        39                         221             8.1   \n",
              "3                        39                          79             5.5   \n",
              "4                        95                         235             5.8   \n",
              "\n",
              "   Albumin  Albumin_and_Globulin_Ratio  \n",
              "0      2.5                         0.7  \n",
              "1      2.7                         1.2  \n",
              "2      2.5                         0.4  \n",
              "3      2.7                         0.9  \n",
              "4      3.1                         1.1  "
            ]
          },
          "metadata": {
            "tags": []
          },
          "execution_count": 26
        }
      ]
    },
    {
      "cell_type": "code",
      "metadata": {
        "id": "hiCamvRoW25t",
        "colab_type": "code",
        "colab": {}
      },
      "source": [
        "Liver_Problem = model.predict(test_new)"
      ],
      "execution_count": null,
      "outputs": []
    },
    {
      "cell_type": "markdown",
      "metadata": {
        "id": "ity8QK67W26B",
        "colab_type": "text"
      },
      "source": [
        "# Downloading the prediction file"
      ]
    },
    {
      "cell_type": "code",
      "metadata": {
        "id": "mUFahyWCW26D",
        "colab_type": "code",
        "colab": {}
      },
      "source": [
        "res = pd.DataFrame(Liver_Problem)\n",
        "res.index = test_new.index # its important for comparison\n",
        "res.columns = [\"Liver_Problem\"]\n",
        "res.to_csv(\"prediction_results_Liver_Problem.csv\")      # the csv file will be saved locally on the same location where this notebook is located."
      ],
      "execution_count": null,
      "outputs": []
    }
  ]
}